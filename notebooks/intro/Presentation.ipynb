{
 "cells": [
  {
   "cell_type": "markdown",
   "metadata": {},
   "source": [
    "# Introduction to XFrames"
   ]
  },
  {
   "cell_type": "code",
   "execution_count": 1,
   "metadata": {
    "collapsed": false
   },
   "outputs": [],
   "source": [
    "%load_ext autoreload\n",
    "%autoreload 2\n",
    "%matplotlib inline\n",
    "from xframes import XFrame, XArray, recommender\n",
    "from xframes.aggregate import COUNT, MEAN, CONCAT\n",
    "XFrame.set_max_row_width(72)"
   ]
  },
  {
   "cell_type": "code",
   "execution_count": 3,
   "metadata": {
    "collapsed": false
   },
   "outputs": [
    {
     "name": "stdout",
     "output_type": "stream",
     "text": [
      "spark: 1.3.1\n",
      "xframe: 0.2.0\n"
     ]
    }
   ],
   "source": [
    "sc = XFrame.spark_context()\n",
    "print 'spark:', sc.version\n",
    "print 'xframe:', XFrame.version()"
   ]
  },
  {
   "cell_type": "markdown",
   "metadata": {},
   "source": [
    "## Overview"
   ]
  },
  {
   "cell_type": "markdown",
   "metadata": {},
   "source": [
    "The XFrames library makes it easy to read, explore, manipulate, and use data at scale, both interactively and for batch processing.  \n",
    "\n",
    "XFrames hides the complexity of learning Spark and other underlying technologies, so it is perfect for data scientists, data engineers and others without requiring extensive experience in cluster computing or database technology.  XFrames' goal is to make it quick and easy to get things done, and to take care of common tasks like handling missing data.  The idea is to be able to focus on the problem, not on the solution technology."
   ]
  },
  {
   "cell_type": "markdown",
   "metadata": {},
   "source": [
    "## XFrames Capabilities: Connect, Discover, Act"
   ]
  },
  {
   "cell_type": "markdown",
   "metadata": {},
   "source": [
    "### Connect"
   ]
  },
  {
   "cell_type": "markdown",
   "metadata": {},
   "source": [
    "Because XFrames is so simple to dive in and use given a background in python, one way to learn XFrames is by example.  We’ll describe a typical data scientist’s task-flow and see how brief it is to implement, and how simple it is to understand.   "
   ]
  },
  {
   "cell_type": "markdown",
   "metadata": {},
   "source": [
    "The first task that a data scientist faces is to ingest the data and put it into a form that can be used.  Because data comes in such a wide variety of formats, often custom processing is required.  XFrames natively accepts a wide variety of file formats and sources: CSV, Hive tables, Parquet; it can read from S3, HDFS, and local files.  You can use the xPatterns ingestion tool to acquire the files, or any other way that is convenient.  "
   ]
  },
  {
   "cell_type": "markdown",
   "metadata": {},
   "source": [
    "The first step is to read the data into an XFrame.  Using the XFrame constructor, you can read data from CSV or other delimited files, parquet files, hive-compatible HDFS files, as well as convert data in arrays, dictionaries, pandas or spark DataFrames, or spark RDDs.  In addition to the constructor, there are a few factory methods that allow greater control of the reading process.\n"
   ]
  },
  {
   "cell_type": "markdown",
   "metadata": {},
   "source": [
    "We will illustrate XFrames by reading some movie data from the [MovieLens](http://files.grouplens.org/datasets/movielens/ml-10m-README.html)  dataset.  This dataset contains movie ratings, and is commonly used to illustrating recommender systems.\n",
    "\n",
    "The data consists of three tables, describing the users, the movies, and the ratings.  The data is stored in three files, which contain pipe-separated values.\n",
    "\n",
    "Let's start by reading the users.  "
   ]
  },
  {
   "cell_type": "code",
   "execution_count": 4,
   "metadata": {
    "collapsed": false
   },
   "outputs": [],
   "source": [
    "users = XFrame.read_csv('movie-data/ml-100k/u.user', delimiter='|')"
   ]
  },
  {
   "cell_type": "markdown",
   "metadata": {},
   "source": [
    "We can take a quick look at what this file contains.  Printing a XFrame displays the initial portion of the file."
   ]
  },
  {
   "cell_type": "code",
   "execution_count": 5,
   "metadata": {
    "collapsed": false
   },
   "outputs": [
    {
     "name": "stdout",
     "output_type": "stream",
     "text": [
      "+---------+-----+--------+---------------+-------+\n",
      "| user_id | age | gender |   occupation  |  zip  |\n",
      "+---------+-----+--------+---------------+-------+\n",
      "|    1    |  24 |   M    |   technician  | 85711 |\n",
      "|    2    |  53 |   F    |     other     | 94043 |\n",
      "|    3    |  23 |   M    |     writer    | 32067 |\n",
      "|    4    |  24 |   M    |   technician  | 43537 |\n",
      "|    5    |  33 |   F    |     other     | 15213 |\n",
      "|    6    |  42 |   M    |   executive   | 98101 |\n",
      "|    7    |  57 |   M    | administrator | 91344 |\n",
      "|    8    |  36 |   M    | administrator | 05201 |\n",
      "|    9    |  29 |   M    |    student    | 01002 |\n",
      "|    10   |  53 |   M    |     lawyer    | 90703 |\n",
      "+---------+-----+--------+---------------+-------+\n",
      "[? rows x 5 columns]\n",
      "Note: Only the head of the XFrame is printed. This XFrame is lazily \n",
      "evaluated.  You can use len(xf) to force materialization.\n"
     ]
    }
   ],
   "source": [
    "print users"
   ]
  },
  {
   "cell_type": "markdown",
   "metadata": {},
   "source": [
    "### Discover"
   ]
  },
  {
   "cell_type": "markdown",
   "metadata": {},
   "source": [
    "We can immediately begin to explore the data in this table.  For instance, we can plot a histogram of the users' ages."
   ]
  },
  {
   "cell_type": "code",
   "execution_count": 8,
   "metadata": {
    "collapsed": false
   },
   "outputs": [
    {
     "data": {
      "image/png": "[encoded data removed]",
      "text/plain": [
       "<matplotlib.figure.Figure at 0x3cda190>"
      ]
     },
     "metadata": {},
     "output_type": "display_data"
    }
   ],
   "source": [
    "users.show().histogram(users['age'], title='Distribution of user ages')"
   ]
  },
  {
   "cell_type": "markdown",
   "metadata": {},
   "source": [
    "Or we could find out about the gender distribution of the users."
   ]
  },
  {
   "cell_type": "code",
   "execution_count": 9,
   "metadata": {
    "collapsed": false
   },
   "outputs": [
    {
     "name": "stdout",
     "output_type": "stream",
     "text": [
      "+--------+-------+\n",
      "| gender | count |\n",
      "+--------+-------+\n",
      "|   M    |  670  |\n",
      "|   F    |  273  |\n",
      "+--------+-------+\n",
      "[? rows x 2 columns]\n",
      "Note: Only the head of the XFrame is printed. This XFrame is lazily \n",
      "evaluated.  You can use len(xf) to force materialization.\n"
     ]
    }
   ],
   "source": [
    "print users.groupby('gender', COUNT)"
   ]
  },
  {
   "cell_type": "markdown",
   "metadata": {},
   "source": [
    "Now we will read and take a peek at the other tables: the movies and ratings."
   ]
  },
  {
   "cell_type": "code",
   "execution_count": 10,
   "metadata": {
    "collapsed": false
   },
   "outputs": [
    {
     "name": "stdout",
     "output_type": "stream",
     "text": [
      "+----------+--------------------------------+--------------+\n",
      "| movie_id |              name              | release_date |\n",
      "+----------+--------------------------------+--------------+\n",
      "|    1     |        Toy Story (1995)        | 01-Jan-1995  |\n",
      "|    2     |        GoldenEye (1995)        | 01-Jan-1995  |\n",
      "|    3     |       Four Rooms (1995)        | 01-Jan-1995  |\n",
      "|    4     |       Get Shorty (1995)        | 01-Jan-1995  |\n",
      "|    5     |         Copycat (1995)         | 01-Jan-1995  |\n",
      "|    6     | Shanghai Triad (Yao a yao  ... | 01-Jan-1995  |\n",
      "|    7     |     Twelve Monkeys (1995)      | 01-Jan-1995  |\n",
      "|    8     |          Babe (1995)           | 01-Jan-1995  |\n",
      "|    9     |    Dead Man Walking (1995)     | 01-Jan-1995  |\n",
      "|    10    |       Richard III (1995)       | 22-Jan-1996  |\n",
      "+----------+--------------------------------+--------------+\n",
      "+--------------------+--------------------------------+---------+\n",
      "| video_release_date |            imdb_url            | unknown |\n",
      "+--------------------+--------------------------------+---------+\n",
      "|                    | http://us.imdb.com/M/title ... |    0    |\n",
      "|                    | http://us.imdb.com/M/title ... |    0    |\n",
      "|                    | http://us.imdb.com/M/title ... |    0    |\n",
      "|                    | http://us.imdb.com/M/title ... |    0    |\n",
      "|                    | http://us.imdb.com/M/title ... |    0    |\n",
      "|                    | http://us.imdb.com/Title?Y ... |    0    |\n",
      "|                    | http://us.imdb.com/M/title ... |    0    |\n",
      "|                    | http://us.imdb.com/M/title ... |    0    |\n",
      "|                    | http://us.imdb.com/M/title ... |    0    |\n",
      "|                    | http://us.imdb.com/M/title ... |    0    |\n",
      "+--------------------+--------------------------------+---------+\n",
      "+--------+-----------+-----------+------------+--------+-------+\n",
      "| Action | Adventure | Animation | Children's | Comedy | Crime |\n",
      "+--------+-----------+-----------+------------+--------+-------+\n",
      "|   0    |     0     |     1     |     1      |   1    |   0   |\n",
      "|   1    |     1     |     0     |     0      |   0    |   0   |\n",
      "|   0    |     0     |     0     |     0      |   0    |   0   |\n",
      "|   1    |     0     |     0     |     0      |   1    |   0   |\n",
      "|   0    |     0     |     0     |     0      |   0    |   1   |\n",
      "|   0    |     0     |     0     |     0      |   0    |   0   |\n",
      "|   0    |     0     |     0     |     0      |   0    |   0   |\n",
      "|   0    |     0     |     0     |     1      |   1    |   0   |\n",
      "|   0    |     0     |     0     |     0      |   0    |   0   |\n",
      "|   0    |     0     |     0     |     0      |   0    |   0   |\n",
      "+--------+-----------+-----------+------------+--------+-------+\n",
      "+-------------+-------+---------+-----------+--------+---------+\n",
      "| Documentary | Drama | Fantasy | Film-Noir | Horror | Musical |\n",
      "+-------------+-------+---------+-----------+--------+---------+\n",
      "|      0      |   0   |    0    |     0     |   0    |    0    |\n",
      "|      0      |   0   |    0    |     0     |   0    |    0    |\n",
      "|      0      |   0   |    0    |     0     |   0    |    0    |\n",
      "|      0      |   1   |    0    |     0     |   0    |    0    |\n",
      "|      0      |   1   |    0    |     0     |   0    |    0    |\n",
      "|      0      |   1   |    0    |     0     |   0    |    0    |\n",
      "|      0      |   1   |    0    |     0     |   0    |    0    |\n",
      "|      0      |   1   |    0    |     0     |   0    |    0    |\n",
      "|      0      |   1   |    0    |     0     |   0    |    0    |\n",
      "|      0      |   1   |    0    |     0     |   0    |    0    |\n",
      "+-------------+-------+---------+-----------+--------+---------+\n",
      "+---------+---------+-----+\n",
      "| Mystery | Romance | ... |\n",
      "+---------+---------+-----+\n",
      "|    0    |    0    | ... |\n",
      "|    0    |    0    | ... |\n",
      "|    0    |    0    | ... |\n",
      "|    0    |    0    | ... |\n",
      "|    0    |    0    | ... |\n",
      "|    0    |    0    | ... |\n",
      "|    0    |    0    | ... |\n",
      "|    0    |    0    | ... |\n",
      "|    0    |    0    | ... |\n",
      "|    0    |    0    | ... |\n",
      "+---------+---------+-----+\n",
      "[? rows x 24 columns]\n",
      "Note: Only the head of the XFrame is printed. This XFrame is lazily \n",
      "evaluated.  You can use len(xf) to force materialization.\n"
     ]
    }
   ],
   "source": [
    "movies = XFrame.read_csv('movie-data/ml-100k/u.item', delimiter='|')\n",
    "print movies"
   ]
  },
  {
   "cell_type": "markdown",
   "metadata": {},
   "source": [
    "We are going to separate out the movie names, for later use."
   ]
  },
  {
   "cell_type": "code",
   "execution_count": 11,
   "metadata": {
    "collapsed": false
   },
   "outputs": [],
   "source": [
    "movie_names = movies[['movie_id', 'name']]\n",
    "movie_names.movie_id = movie_names.movie_id.astype(int)"
   ]
  },
  {
   "cell_type": "markdown",
   "metadata": {},
   "source": [
    "The ratings are tab delimited."
   ]
  },
  {
   "cell_type": "code",
   "execution_count": 12,
   "metadata": {
    "collapsed": false
   },
   "outputs": [
    {
     "name": "stdout",
     "output_type": "stream",
     "text": [
      "+---------+---------+--------+-----------+\n",
      "| user_id | item_id | rating | timestamp |\n",
      "+---------+---------+--------+-----------+\n",
      "|   196   |   242   |   3    | 881250949 |\n",
      "|   186   |   302   |   3    | 891717742 |\n",
      "|    22   |   377   |   1    | 878887116 |\n",
      "|   244   |    51   |   2    | 880606923 |\n",
      "|   166   |   346   |   1    | 886397596 |\n",
      "|   298   |   474   |   4    | 884182806 |\n",
      "|   115   |   265   |   2    | 881171488 |\n",
      "|   253   |   465   |   5    | 891628467 |\n",
      "|   305   |   451   |   3    | 886324817 |\n",
      "|    6    |    86   |   3    | 883603013 |\n",
      "+---------+---------+--------+-----------+\n",
      "[? rows x 4 columns]\n",
      "Note: Only the head of the XFrame is printed. This XFrame is lazily \n",
      "evaluated.  You can use len(xf) to force materialization.\n"
     ]
    }
   ],
   "source": [
    "ratings = XFrame.read_csv('movie-data/ml-100k/u.data', delimiter='\\t')\n",
    "print ratings"
   ]
  },
  {
   "cell_type": "markdown",
   "metadata": {},
   "source": [
    "### Act"
   ]
  },
  {
   "cell_type": "markdown",
   "metadata": {},
   "source": [
    "Using the ratings, we can build a model to predict user scores."
   ]
  },
  {
   "cell_type": "code",
   "execution_count": 13,
   "metadata": {
    "collapsed": false
   },
   "outputs": [
    {
     "name": "stdout",
     "output_type": "stream",
     "text": [
      "<pyspark.mllib.recommendation.MatrixFactorizationModel object at 0x3dba810>\n",
      "user_col: user_id\n",
      "item_col: item_id\n",
      "rating_col: rating\n"
     ]
    }
   ],
   "source": [
    "model = recommender.create(ratings, 'user_id', 'item_id', 'rating')\n",
    "print model"
   ]
  },
  {
   "cell_type": "markdown",
   "metadata": {},
   "source": [
    "Using the model, we can predict the rating a given user would give a movie."
   ]
  },
  {
   "cell_type": "code",
   "execution_count": 14,
   "metadata": {
    "collapsed": false
   },
   "outputs": [
    {
     "name": "stdout",
     "output_type": "stream",
     "text": [
      "3.29971613192\n"
     ]
    }
   ],
   "source": [
    "user = 789\n",
    "movie = 123\n",
    "print model.predict(user, movie)"
   ]
  },
  {
   "cell_type": "code",
   "execution_count": 15,
   "metadata": {
    "collapsed": false
   },
   "outputs": [
    {
     "name": "stdout",
     "output_type": "stream",
     "text": [
      "+----+-----+\n",
      "| id | val |\n",
      "+----+-----+\n",
      "| 2  |  b  |\n",
      "| 3  |  c  |\n",
      "+----+-----+\n",
      "[? rows x 2 columns]\n",
      "Note: Only the head of the XFrame is printed. This XFrame is lazily \n",
      "evaluated.  You can use len(xf) to force materialization.\n"
     ]
    }
   ],
   "source": [
    "x = XFrame({'id': [1, 2, 3], 'val': ['a', 'b', 'c']})\n",
    "y = XArray([1])\n",
    "print x.filterby(y, 'id', exclude=True)"
   ]
  },
  {
   "cell_type": "markdown",
   "metadata": {},
   "source": [
    "We can also use the model to predict how that user would rate all the movies, and pick the ones that have the highest ratings."
   ]
  },
  {
   "cell_type": "code",
   "execution_count": 16,
   "metadata": {
    "collapsed": false,
    "scrolled": false
   },
   "outputs": [
    {
     "name": "stdout",
     "output_type": "stream",
     "text": [
      "+---------+---------+---------------+\n",
      "| user_id | item_id |     rating    |\n",
      "+---------+---------+---------------+\n",
      "|   789   |   921   | 5.57143847144 |\n",
      "|   789   |   525   | 5.44679163436 |\n",
      "|   789   |   187   | 5.33335791014 |\n",
      "|   789   |    39   | 5.32368995771 |\n",
      "|   789   |    46   | 5.29513275928 |\n",
      "|   789   |   195   | 5.26166235073 |\n",
      "|   789   |   200   | 5.23285501395 |\n",
      "|   789   |   250   | 5.21008293404 |\n",
      "|   789   |    24   | 5.19726518349 |\n",
      "|   789   |   207   |  5.1820184308 |\n",
      "+---------+---------+---------------+\n",
      "[? rows x 3 columns]\n",
      "Note: Only the head of the XFrame is printed. This XFrame is lazily \n",
      "evaluated.  You can use len(xf) to force materialization.\n"
     ]
    }
   ],
   "source": [
    "recommendations = model.recommend_top_k(user)\n",
    "print recommendations"
   ]
  },
  {
   "cell_type": "markdown",
   "metadata": {},
   "source": [
    "What movies there these?"
   ]
  },
  {
   "cell_type": "code",
   "execution_count": 17,
   "metadata": {
    "collapsed": false
   },
   "outputs": [
    {
     "name": "stdout",
     "output_type": "stream",
     "text": [
      "+---------+---------+---------------+--------------------------------+\n",
      "| user_id | item_id |     rating    |              name              |\n",
      "+---------+---------+---------------+--------------------------------+\n",
      "|   789   |   921   | 5.57143847144 |  Farewell My Concubine (1993)  |\n",
      "|   789   |   525   | 5.44679163436 |     Big Sleep, The (1946)      |\n",
      "|   789   |   187   | 5.33335791014 | Godfather: Part II, The (1974) |\n",
      "|   789   |    39   | 5.32368995771 |      Strange Days (1995)       |\n",
      "|   789   |    46   | 5.29513275928 |         Exotica (1994)         |\n",
      "|   789   |   195   | 5.26166235073 |     Terminator, The (1984)     |\n",
      "|   789   |   200   | 5.23285501395 |      Shining, The (1980)       |\n",
      "|   789   |   250   | 5.21008293404 |   Fifth Element, The (1997)    |\n",
      "|   789   |    24   | 5.19726518349 |   Rumble in the Bronx (1995)   |\n",
      "|   789   |   207   |  5.1820184308 |   Cyrano de Bergerac (1990)    |\n",
      "+---------+---------+---------------+--------------------------------+\n",
      "[? rows x 4 columns]\n",
      "Note: Only the head of the XFrame is printed. This XFrame is lazily \n",
      "evaluated.  You can use len(xf) to force materialization.\n"
     ]
    }
   ],
   "source": [
    "print recommendations.join(movie_names, on={'item_id': 'movie_id'}) \\\n",
    "                                                       .sort('rating', ascending=False)"
   ]
  },
  {
   "cell_type": "markdown",
   "metadata": {},
   "source": [
    "What were some of the movies that this user rated most highly?"
   ]
  },
  {
   "cell_type": "code",
   "execution_count": 18,
   "metadata": {
    "collapsed": false
   },
   "outputs": [
    {
     "name": "stdout",
     "output_type": "stream",
     "text": [
      "+---------+---------+--------+-----------+\n",
      "| user_id | item_id | rating | timestamp |\n",
      "+---------+---------+--------+-----------+\n",
      "|   789   |   100   |   5    | 880332089 |\n",
      "|   789   |   741   |   5    | 880332148 |\n",
      "|   789   |   127   |   5    | 880332039 |\n",
      "|   789   |   276   |   5    | 880332063 |\n",
      "|   789   |    50   |   5    | 880332114 |\n",
      "|   789   |   129   |   5    | 880332063 |\n",
      "|   789   |   150   |   5    | 880332333 |\n",
      "|   789   |    9    |   5    | 880332114 |\n",
      "|   789   |   475   |   5    | 880332063 |\n",
      "|   789   |    93   |   4    | 880332063 |\n",
      "+---------+---------+--------+-----------+\n",
      "+--------------------------------+\n",
      "|              name              |\n",
      "+--------------------------------+\n",
      "|          Fargo (1996)          |\n",
      "|    Last Supper, The (1995)     |\n",
      "|     Godfather, The (1972)      |\n",
      "|    Leaving Las Vegas (1995)    |\n",
      "|        Star Wars (1977)        |\n",
      "|          Bound (1996)          |\n",
      "|        Swingers (1996)         |\n",
      "|    Dead Man Walking (1995)     |\n",
      "|      Trainspotting (1996)      |\n",
      "| Welcome to the Dollhouse ( ... |\n",
      "+--------------------------------+\n",
      "[? rows x 5 columns]\n",
      "Note: Only the head of the XFrame is printed. This XFrame is lazily \n",
      "evaluated.  You can use len(xf) to force materialization.\n"
     ]
    }
   ],
   "source": [
    "print ratings.filterby(789, 'user_id').join(movie_names, on={'item_id': 'movie_id'})   \\\n",
    "                    .sort('rating', ascending=False)"
   ]
  },
  {
   "cell_type": "markdown",
   "metadata": {},
   "source": [
    "Save the model for later use."
   ]
  },
  {
   "cell_type": "code",
   "execution_count": 19,
   "metadata": {
    "collapsed": false
   },
   "outputs": [],
   "source": [
    "model.save('models/recommender-model')"
   ]
  },
  {
   "cell_type": "markdown",
   "metadata": {},
   "source": [
    "## What is XFrames ?"
   ]
  },
  {
   "cell_type": "markdown",
   "metadata": {},
   "source": [
    "* A python library for handling tabular data\n",
    "* A better was to program in pySpark\n",
    "* A tool for exploring and manipulating large data sets\n",
    "* An abstraction layer that ties together several underlying technologies\n",
    "\n",
    "-----\n",
    "\n",
    "* A high level language for tabular data, embedded in python\n",
    "* Implemented by interpretation\n",
    "* Uses a virtual machine based on pySpark"
   ]
  },
  {
   "cell_type": "markdown",
   "metadata": {},
   "source": [
    "## XFrames Key Goals"
   ]
  },
  {
   "cell_type": "markdown",
   "metadata": {},
   "source": [
    "* Remove the need to learn new programming styles, such as map/reduce and RDDs\n",
    "* Anyone familiar with python can work with Big Data at scale\n",
    "* Simplify and speed development when working with tabular data\n",
    "* Work seamlessly with pySpark and other python-based technologies such as pandas and the DAL DataFramePlus\n",
    "* Make it easy to get started by using a container\n",
    "* Lightweight: pure python with minimal dependencies; easy to install"
   ]
  },
  {
   "cell_type": "markdown",
   "metadata": {},
   "source": [
    "# XFrame Fundamentals"
   ]
  },
  {
   "cell_type": "markdown",
   "metadata": {},
   "source": [
    "The key objects are XArray and XFrame, representing vectors and matrices."
   ]
  },
  {
   "cell_type": "markdown",
   "metadata": {},
   "source": [
    "## XArray"
   ]
  },
  {
   "cell_type": "markdown",
   "metadata": {},
   "source": [
    "* An XArray is a vector of values of a uniform type\n",
    "* Can be any type that is serializable by python: int, float, list, dict\n",
    "* An XArray is immutable\n",
    "* Each XArray instance contains a single spark RDD, which holds the actual data"
   ]
  },
  {
   "cell_type": "code",
   "execution_count": 20,
   "metadata": {
    "collapsed": false
   },
   "outputs": [
    {
     "name": "stdout",
     "output_type": "stream",
     "text": [
      "[1, 2, 3]\n"
     ]
    }
   ],
   "source": [
    "print XArray([1, 2, 3])"
   ]
  },
  {
   "cell_type": "code",
   "execution_count": 21,
   "metadata": {
    "collapsed": false
   },
   "outputs": [
    {
     "name": "stdout",
     "output_type": "stream",
     "text": [
      "['a', 'b', 'c']\n",
      "[[1, 2], [1, 3], [5, 6]]\n",
      "[{'score': 92, 'user': 'charlie'}, {'score': 95, 'user': 'joe'}]\n",
      "[0, 1, 2, 3, 4, 5, 6, 7, 8, 9]\n"
     ]
    }
   ],
   "source": [
    "print XArray(['a', 'b', 'c'])\n",
    "print XArray([[1, 2], [1, 3], [5, 6]])\n",
    "print XArray([{'user': 'charlie', 'score': 92}, {'user': 'joe', 'score': 95}])\n",
    "print XArray(range(10))"
   ]
  },
  {
   "cell_type": "markdown",
   "metadata": {},
   "source": [
    "## XFrame"
   ]
  },
  {
   "cell_type": "markdown",
   "metadata": {},
   "source": [
    "* A table of fixed width, where each column has a name and a type\n",
    "* The XFrame columns are immutable, but columns can be added or deleted from an XFrame \n",
    "* Each XFrame instance contains a single spark RDD, which holds the actual data"
   ]
  },
  {
   "cell_type": "code",
   "execution_count": 22,
   "metadata": {
    "collapsed": false
   },
   "outputs": [
    {
     "name": "stdout",
     "output_type": "stream",
     "text": [
      "+----+---------+----------+\n",
      "| id |   name  |  scores  |\n",
      "+----+---------+----------+\n",
      "| 1  | charlie | [90, 80] |\n",
      "| 2  |   joe   |   [80]   |\n",
      "| 3  |  jason  | [95, 99] |\n",
      "+----+---------+----------+\n",
      "[? rows x 3 columns]\n",
      "Note: Only the head of the XFrame is printed. This XFrame is lazily \n",
      "evaluated.  You can use len(xf) to force materialization.\n"
     ]
    }
   ],
   "source": [
    "print XFrame({'id': [1, 2, 3], 'name': ['charlie', 'joe', 'jason'], 'scores': [[90, 80], [80], [95, 99]]})"
   ]
  },
  {
   "cell_type": "markdown",
   "metadata": {},
   "source": [
    "## Reading Data"
   ]
  },
  {
   "cell_type": "markdown",
   "metadata": {},
   "source": [
    "* Data can be read from a file to create an XFrame\n",
    "* The file can be stored on S3, hdfs, or locally.\n",
    "* The file can be text (delimited), parquet, hive, various hdfs file types, or spark binary storage format\n",
    "* XFrame tries to guess storage format from the filename extension\n",
    "* XFrame takes column names and types from metadata or column headings if available; guesses column types from the firs portion of the data\n",
    "* Application can optionally supply file type, column names, or column types\n",
    "* Factory methods such as XFrame.read_csv allow greater control over delimiters, quoting, and other parameters\n"
   ]
  },
  {
   "cell_type": "code",
   "execution_count": 23,
   "metadata": {
    "collapsed": false
   },
   "outputs": [
    {
     "name": "stdout",
     "output_type": "stream",
     "text": [
      "+---------+---------+-------+\n",
      "| user_id |   name  | score |\n",
      "+---------+---------+-------+\n",
      "|    1    | charlie |   87  |\n",
      "|    1    | charlie |   92  |\n",
      "|    2    |   joe   |   90  |\n",
      "|    3    |  jason  |   95  |\n",
      "+---------+---------+-------+\n",
      "[? rows x 3 columns]\n",
      "Note: Only the head of the XFrame is printed. This XFrame is lazily \n",
      "evaluated.  You can use len(xf) to force materialization.\n"
     ]
    }
   ],
   "source": [
    "print XFrame('example.csv')"
   ]
  },
  {
   "cell_type": "markdown",
   "metadata": {},
   "source": [
    "## Loading Data"
   ]
  },
  {
   "cell_type": "markdown",
   "metadata": {},
   "source": [
    "Loading data refers to bringing data that is already in python into an XFrame\n",
    "* Data can be a dictionary, an array, a spark DataFrame, a spark RDD, a pandas DataFrame, an XArray or an XFrame\n",
    "* There are similar operations for XArray\n",
    "* Column names and types are assigned from the data or guessed if necessary"
   ]
  },
  {
   "cell_type": "code",
   "execution_count": 24,
   "metadata": {
    "collapsed": false
   },
   "outputs": [
    {
     "name": "stdout",
     "output_type": "stream",
     "text": [
      "+----+\n",
      "| X0 |\n",
      "+----+\n",
      "| 1  |\n",
      "| 2  |\n",
      "| 3  |\n",
      "+----+\n",
      "[? rows x 1 columns]\n",
      "Note: Only the head of the XFrame is printed. This XFrame is lazily \n",
      "evaluated.  You can use len(xf) to force materialization.\n",
      "+----+\n",
      "| X0 |\n",
      "+----+\n",
      "| 1  |\n",
      "| 2  |\n",
      "| 3  |\n",
      "+----+\n",
      "[? rows x 1 columns]\n",
      "Note: Only the head of the XFrame is printed. This XFrame is lazily \n",
      "evaluated.  You can use len(xf) to force materialization.\n",
      "+----+\n",
      "| X0 |\n",
      "+----+\n",
      "| 3  |\n",
      "| 1  |\n",
      "| 4  |\n",
      "| 1  |\n",
      "| 5  |\n",
      "+----+\n",
      "[? rows x 1 columns]\n",
      "Note: Only the head of the XFrame is printed. This XFrame is lazily \n",
      "evaluated.  You can use len(xf) to force materialization.\n"
     ]
    }
   ],
   "source": [
    "xf = XFrame([1, 2, 3])\n",
    "print xf\n",
    "print XFrame(xf)\n",
    "xa = XArray([3, 1, 4, 1, 5])\n",
    "print XFrame(xa)"
   ]
  },
  {
   "cell_type": "markdown",
   "metadata": {},
   "source": [
    "## Saving Data"
   ]
  },
  {
   "cell_type": "markdown",
   "metadata": {},
   "source": [
    "An XFrame can be saved as binary, csv, or parquet\n",
    "* Binary is actually a hadoop SequenceFile, and can be read back efficiently\n",
    "* The order may not be preserved when reading a file saved in binary"
   ]
  },
  {
   "cell_type": "code",
   "execution_count": 25,
   "metadata": {
    "collapsed": false
   },
   "outputs": [],
   "source": [
    "xf = XFrame('example.csv')\n",
    "xf.save('data/some-data')\n",
    "xf.save('data/some-csv-data.csv')"
   ]
  },
  {
   "cell_type": "code",
   "execution_count": 26,
   "metadata": {
    "collapsed": false
   },
   "outputs": [
    {
     "name": "stdout",
     "output_type": "stream",
     "text": [
      "+---------+---------+-------+\n",
      "| user_id |   name  | score |\n",
      "+---------+---------+-------+\n",
      "|    2    |   joe   |   90  |\n",
      "|    3    |  jason  |   95  |\n",
      "|    1    | charlie |   87  |\n",
      "|    1    | charlie |   92  |\n",
      "+---------+---------+-------+\n",
      "[? rows x 3 columns]\n",
      "Note: Only the head of the XFrame is printed. This XFrame is lazily \n",
      "evaluated.  You can use len(xf) to force materialization.\n"
     ]
    }
   ],
   "source": [
    "print XFrame('data/some-data')"
   ]
  },
  {
   "cell_type": "code",
   "execution_count": 27,
   "metadata": {
    "collapsed": false
   },
   "outputs": [
    {
     "name": "stdout",
     "output_type": "stream",
     "text": [
      "+---------+---------+-------+\n",
      "| user_id |   name  | score |\n",
      "+---------+---------+-------+\n",
      "|    1    | charlie |   87  |\n",
      "|    1    | charlie |   92  |\n",
      "|    2    |   joe   |   90  |\n",
      "|    3    |  jason  |   95  |\n",
      "+---------+---------+-------+\n",
      "[? rows x 3 columns]\n",
      "Note: Only the head of the XFrame is printed. This XFrame is lazily \n",
      "evaluated.  You can use len(xf) to force materialization.\n"
     ]
    }
   ],
   "source": [
    "print XFrame('data/some-csv-data.csv')"
   ]
  },
  {
   "cell_type": "markdown",
   "metadata": {},
   "source": [
    "## Exporting Data"
   ]
  },
  {
   "cell_type": "markdown",
   "metadata": {},
   "source": [
    "An XFrame can be used by pandas or spark."
   ]
  },
  {
   "cell_type": "code",
   "execution_count": 30,
   "metadata": {
    "collapsed": false
   },
   "outputs": [
    {
     "name": "stdout",
     "output_type": "stream",
     "text": [
      "   user_id     name  score\n",
      "0        1  charlie     87\n",
      "1        1  charlie     92\n",
      "2        2      joe     90\n",
      "3        3    jason     95\n"
     ]
    }
   ],
   "source": [
    "print xf.to_pandas_dataframe()"
   ]
  },
  {
   "cell_type": "code",
   "execution_count": 31,
   "metadata": {
    "collapsed": false
   },
   "outputs": [
    {
     "name": "stdout",
     "output_type": "stream",
     "text": [
      "[Row(user_id=1, name=u'charlie', score=92), Row(user_id=3, name=u'jason', score=95), Row(user_id=1, name=u'charlie', score=87), Row(user_id=2, name=u'joe', score=90)]\n"
     ]
    }
   ],
   "source": [
    "print xf.to_spark_dataframe().collect()"
   ]
  },
  {
   "cell_type": "code",
   "execution_count": 32,
   "metadata": {
    "collapsed": false
   },
   "outputs": [
    {
     "name": "stdout",
     "output_type": "stream",
     "text": [
      "[(1, 'charlie', 87), (1, 'charlie', 92), (2, 'joe', 90), (3, 'jason', 95)]\n"
     ]
    }
   ],
   "source": [
    "print xf.to_rdd().collect()"
   ]
  },
  {
   "cell_type": "markdown",
   "metadata": {},
   "source": [
    "## Using Spark SQL"
   ]
  },
  {
   "cell_type": "markdown",
   "metadata": {},
   "source": [
    "You can use the XFrame operations to do equivalent operations, but you might want to use spark SQL operations instead.  This is easy to do; the result is returned as an XFrame.  Any sql statement in spark SQL is accepted."
   ]
  },
  {
   "cell_type": "code",
   "execution_count": 33,
   "metadata": {
    "collapsed": false,
    "scrolled": true
   },
   "outputs": [
    {
     "name": "stdout",
     "output_type": "stream",
     "text": [
      "+---------+---------+-------+\n",
      "| user_id |   name  | score |\n",
      "+---------+---------+-------+\n",
      "|    2    |   joe   |   90  |\n",
      "|    1    | charlie |   92  |\n",
      "|    3    |  jason  |   95  |\n",
      "+---------+---------+-------+\n",
      "[? rows x 3 columns]\n",
      "Note: Only the head of the XFrame is printed. This XFrame is lazily \n",
      "evaluated.  You can use len(xf) to force materialization.\n"
     ]
    }
   ],
   "source": [
    "print xf.sql('select * from xf where score >= 90', 'xf')"
   ]
  },
  {
   "cell_type": "markdown",
   "metadata": {},
   "source": [
    "## Iteration"
   ]
  },
  {
   "cell_type": "markdown",
   "metadata": {},
   "source": [
    "It is possible to iterate over the rows in an XArray, although it is slow, because the data must be brought in to the master"
   ]
  },
  {
   "cell_type": "code",
   "execution_count": 34,
   "metadata": {
    "collapsed": false
   },
   "outputs": [
    {
     "name": "stdout",
     "output_type": "stream",
     "text": [
      "{'score': 10, 'id': 0}\n",
      "{'score': 11, 'id': 1}\n",
      "{'score': 12, 'id': 2}\n",
      "{'score': 13, 'id': 3}\n",
      "{'score': 14, 'id': 4}\n",
      "{'score': 15, 'id': 5}\n",
      "{'score': 16, 'id': 6}\n",
      "{'score': 17, 'id': 7}\n",
      "{'score': 18, 'id': 8}\n",
      "{'score': 19, 'id': 9}\n"
     ]
    }
   ],
   "source": [
    "xf = XFrame({'id': range(0, 10), 'score': range(10, 20)})\n",
    "for row in xf: print row"
   ]
  },
  {
   "cell_type": "code",
   "execution_count": 35,
   "metadata": {
    "collapsed": false
   },
   "outputs": [
    {
     "name": "stdout",
     "output_type": "stream",
     "text": [
      "{'score': 13, 'id': 3}\n"
     ]
    }
   ],
   "source": [
    "print xf[3]"
   ]
  },
  {
   "cell_type": "code",
   "execution_count": 36,
   "metadata": {
    "collapsed": false
   },
   "outputs": [
    {
     "name": "stdout",
     "output_type": "stream",
     "text": [
      "+----+-------+\n",
      "| id | score |\n",
      "+----+-------+\n",
      "| 3  |   13  |\n",
      "| 4  |   14  |\n",
      "+----+-------+\n",
      "[? rows x 2 columns]\n",
      "Note: Only the head of the XFrame is printed. This XFrame is lazily \n",
      "evaluated.  You can use len(xf) to force materialization.\n"
     ]
    }
   ],
   "source": [
    "print xf[3:5]"
   ]
  },
  {
   "cell_type": "code",
   "execution_count": 37,
   "metadata": {
    "collapsed": false
   },
   "outputs": [
    {
     "name": "stdout",
     "output_type": "stream",
     "text": [
      "+----+-------+\n",
      "| id | score |\n",
      "+----+-------+\n",
      "| 0  |   10  |\n",
      "| 1  |   11  |\n",
      "| 2  |   12  |\n",
      "| 3  |   13  |\n",
      "+----+-------+\n",
      "[? rows x 2 columns]\n",
      "Note: Only the head of the XFrame is printed. This XFrame is lazily \n",
      "evaluated.  You can use len(xf) to force materialization.\n"
     ]
    }
   ],
   "source": [
    "print xf[:4]"
   ]
  },
  {
   "cell_type": "code",
   "execution_count": 38,
   "metadata": {
    "collapsed": false
   },
   "outputs": [
    {
     "name": "stdout",
     "output_type": "stream",
     "text": [
      "3\n"
     ]
    }
   ],
   "source": [
    "print xf['id'][3]"
   ]
  },
  {
   "cell_type": "markdown",
   "metadata": {},
   "source": [
    "## Table Information"
   ]
  },
  {
   "cell_type": "markdown",
   "metadata": {},
   "source": [
    "It is easy to get information about a table, and print some of the rows.\n",
    "* Get colum names and types\n",
    "* Get table length (forces evaluation)\n",
    "* Print first rows of the table"
   ]
  },
  {
   "cell_type": "code",
   "execution_count": 39,
   "metadata": {
    "collapsed": false
   },
   "outputs": [
    {
     "name": "stdout",
     "output_type": "stream",
     "text": [
      "['id', 'score']\n",
      "[<type 'int'>, <type 'int'>]\n"
     ]
    }
   ],
   "source": [
    "print xf.column_names()\n",
    "print xf.column_types()"
   ]
  },
  {
   "cell_type": "code",
   "execution_count": 40,
   "metadata": {
    "collapsed": false
   },
   "outputs": [
    {
     "name": "stdout",
     "output_type": "stream",
     "text": [
      "10\n",
      "\n",
      "+----+-------+\n",
      "| id | score |\n",
      "+----+-------+\n",
      "| 0  |   10  |\n",
      "| 1  |   11  |\n",
      "| 2  |   12  |\n",
      "| 3  |   13  |\n",
      "| 4  |   14  |\n",
      "| 5  |   15  |\n",
      "| 6  |   16  |\n",
      "| 7  |   17  |\n",
      "| 8  |   18  |\n",
      "| 9  |   19  |\n",
      "+----+-------+\n",
      "[10 rows x 2 columns]\n",
      "\n"
     ]
    }
   ],
   "source": [
    "print len(xf)\n",
    "print\n",
    "print xf"
   ]
  },
  {
   "cell_type": "code",
   "execution_count": 41,
   "metadata": {
    "collapsed": false
   },
   "outputs": [
    {
     "name": "stdout",
     "output_type": "stream",
     "text": [
      "+-----+-------+\n",
      "|  id | score |\n",
      "+-----+-------+\n",
      "|  0  |   10  |\n",
      "|  1  |   11  |\n",
      "|  2  |   12  |\n",
      "|  3  |   13  |\n",
      "|  4  |   14  |\n",
      "| ... |  ...  |\n",
      "+-----+-------+\n",
      "[10 rows x 2 columns]\n",
      "\n"
     ]
    }
   ],
   "source": [
    "xf.print_rows(num_rows=5)"
   ]
  },
  {
   "cell_type": "markdown",
   "metadata": {},
   "source": [
    "## Column Arithmetic"
   ]
  },
  {
   "cell_type": "markdown",
   "metadata": {},
   "source": [
    "Selecting a column from an XFrame gives an XArray.  Vector and scalar arithmetic is defined on XArrays."
   ]
  },
  {
   "cell_type": "code",
   "execution_count": 42,
   "metadata": {
    "collapsed": false
   },
   "outputs": [
    {
     "name": "stdout",
     "output_type": "stream",
     "text": [
      "[0, 1, 2, 3, 4, 5, 6, 7, 8, 9]\n",
      "[0, 1, 2, 3, 4, 5, 6, 7, 8, 9]\n"
     ]
    }
   ],
   "source": [
    "print xf['id']\n",
    "print xf.id"
   ]
  },
  {
   "cell_type": "code",
   "execution_count": 43,
   "metadata": {
    "collapsed": false
   },
   "outputs": [
    {
     "name": "stdout",
     "output_type": "stream",
     "text": [
      "[0, 2, 4, 6, 8, 10, 12, 14, 16, 18]\n",
      "[1, 2, 3, 4, 5, 6, 7, 8, 9, 10]\n",
      "[0, 1, 4, 9, 16, 25, 36, 49, 64, 81]\n",
      "[0, 8, 34, 78, 140, 220, 318, 434, 568, 720]\n",
      "4.5\n"
     ]
    }
   ],
   "source": [
    "id = xf['id']\n",
    "print id * 2\n",
    "print id + 1\n",
    "print id * id\n",
    "print (3 * id)  **2 - id\n",
    "print id.mean()"
   ]
  },
  {
   "cell_type": "markdown",
   "metadata": {},
   "source": [
    "Usually, columns are extracted from tables and assigned back into the table after performing some operation."
   ]
  },
  {
   "cell_type": "code",
   "execution_count": 44,
   "metadata": {
    "collapsed": false
   },
   "outputs": [
    {
     "name": "stdout",
     "output_type": "stream",
     "text": [
      "+----+-------+\n",
      "| id | score |\n",
      "+----+-------+\n",
      "| 0  |   20  |\n",
      "| 1  |   22  |\n",
      "| 2  |   24  |\n",
      "| 3  |   26  |\n",
      "| 4  |   28  |\n",
      "| 5  |   30  |\n",
      "| 6  |   32  |\n",
      "| 7  |   34  |\n",
      "| 8  |   36  |\n",
      "| 9  |   38  |\n",
      "+----+-------+\n",
      "[? rows x 2 columns]\n",
      "Note: Only the head of the XFrame is printed. This XFrame is lazily \n",
      "evaluated.  You can use len(xf) to force materialization.\n"
     ]
    }
   ],
   "source": [
    "xf.score = 2*xf.score\n",
    "print xf"
   ]
  },
  {
   "cell_type": "markdown",
   "metadata": {},
   "source": [
    "## Column and Row Filtering"
   ]
  },
  {
   "cell_type": "markdown",
   "metadata": {},
   "source": [
    "Column filtering makes a table from a subset of the columns in another table."
   ]
  },
  {
   "cell_type": "code",
   "execution_count": 45,
   "metadata": {
    "collapsed": false
   },
   "outputs": [
    {
     "name": "stdout",
     "output_type": "stream",
     "text": [
      "+--------+----+-------+\n",
      "| charge | id | score |\n",
      "+--------+----+-------+\n",
      "|  100   | 0  |   10  |\n",
      "|  101   | 1  |   11  |\n",
      "|  102   | 2  |   12  |\n",
      "+--------+----+-------+\n",
      "[10 rows x 3 columns]\n",
      "\n"
     ]
    }
   ],
   "source": [
    "xf = XFrame({'id': range(0, 10), 'score': range(10, 20), 'charge': range(100,110)})\n",
    "xf.print_rows(num_rows=3)"
   ]
  },
  {
   "cell_type": "code",
   "execution_count": 46,
   "metadata": {
    "collapsed": false
   },
   "outputs": [
    {
     "name": "stdout",
     "output_type": "stream",
     "text": [
      "+----+--------+\n",
      "| id | charge |\n",
      "+----+--------+\n",
      "| 0  |  100   |\n",
      "| 1  |  101   |\n",
      "| 2  |  102   |\n",
      "| 3  |  103   |\n",
      "| 4  |  104   |\n",
      "| 5  |  105   |\n",
      "| 6  |  106   |\n",
      "| 7  |  107   |\n",
      "| 8  |  108   |\n",
      "| 9  |  109   |\n",
      "+----+--------+\n",
      "[? rows x 2 columns]\n",
      "Note: Only the head of the XFrame is printed. This XFrame is lazily \n",
      "evaluated.  You can use len(xf) to force materialization.\n"
     ]
    }
   ],
   "source": [
    "print xf[['id', 'charge']]"
   ]
  },
  {
   "cell_type": "markdown",
   "metadata": {},
   "source": [
    "The XFrame can be modified by removing a column."
   ]
  },
  {
   "cell_type": "code",
   "execution_count": 47,
   "metadata": {
    "collapsed": false
   },
   "outputs": [
    {
     "name": "stdout",
     "output_type": "stream",
     "text": [
      "+----+-------+\n",
      "| id | score |\n",
      "+----+-------+\n",
      "| 0  |   10  |\n",
      "| 1  |   11  |\n",
      "| 2  |   12  |\n",
      "+----+-------+\n",
      "[10 rows x 2 columns]\n",
      "\n"
     ]
    }
   ],
   "source": [
    "xf.remove_column('charge')\n",
    "xf.print_rows(num_rows=3)"
   ]
  },
  {
   "cell_type": "markdown",
   "metadata": {},
   "source": [
    "## Row Filters"
   ]
  },
  {
   "cell_type": "markdown",
   "metadata": {},
   "source": [
    "There are several ways to filter rows from an XArray.\n",
    "\n",
    "The table can be indexed by a boolean array, produced through column arithmetic."
   ]
  },
  {
   "cell_type": "code",
   "execution_count": 48,
   "metadata": {
    "collapsed": false
   },
   "outputs": [
    {
     "name": "stdout",
     "output_type": "stream",
     "text": [
      "+--------+----+-------+\n",
      "| charge | id | score |\n",
      "+--------+----+-------+\n",
      "|  100   | 0  |   10  |\n",
      "|  101   | 1  |   11  |\n",
      "|  102   | 2  |   12  |\n",
      "|  103   | 3  |   13  |\n",
      "|  104   | 4  |   14  |\n",
      "|  105   | 5  |   15  |\n",
      "|  106   | 6  |   16  |\n",
      "|  107   | 7  |   17  |\n",
      "|  108   | 8  |   18  |\n",
      "|  109   | 9  |   19  |\n",
      "+--------+----+-------+\n",
      "[? rows x 3 columns]\n",
      "Note: Only the head of the XFrame is printed. This XFrame is lazily \n",
      "evaluated.  You can use len(xf) to force materialization.\n"
     ]
    }
   ],
   "source": [
    "xf = XFrame({'id': range(0, 10), 'score': range(10, 20), 'charge': range(100,110)})\n",
    "print xf"
   ]
  },
  {
   "cell_type": "code",
   "execution_count": 49,
   "metadata": {
    "collapsed": false
   },
   "outputs": [
    {
     "name": "stdout",
     "output_type": "stream",
     "text": [
      "+--------+----+-------+\n",
      "| charge | id | score |\n",
      "+--------+----+-------+\n",
      "|  105   | 5  |   15  |\n",
      "|  106   | 6  |   16  |\n",
      "|  107   | 7  |   17  |\n",
      "|  108   | 8  |   18  |\n",
      "|  109   | 9  |   19  |\n",
      "+--------+----+-------+\n",
      "[? rows x 3 columns]\n",
      "Note: Only the head of the XFrame is printed. This XFrame is lazily \n",
      "evaluated.  You can use len(xf) to force materialization.\n"
     ]
    }
   ],
   "source": [
    "print xf[xf['id'] > 4]"
   ]
  },
  {
   "cell_type": "code",
   "execution_count": 50,
   "metadata": {
    "collapsed": false
   },
   "outputs": [
    {
     "name": "stdout",
     "output_type": "stream",
     "text": [
      "+--------+----+-------+\n",
      "| charge | id | score |\n",
      "+--------+----+-------+\n",
      "|  105   | 5  |   15  |\n",
      "|  106   | 6  |   16  |\n",
      "|  107   | 7  |   17  |\n",
      "+--------+----+-------+\n",
      "[? rows x 3 columns]\n",
      "Note: Only the head of the XFrame is printed. This XFrame is lazily \n",
      "evaluated.  You can use len(xf) to force materialization.\n"
     ]
    }
   ],
   "source": [
    "print xf[(xf.id > 4) & (xf.score <= 17)]"
   ]
  },
  {
   "cell_type": "markdown",
   "metadata": {},
   "source": [
    "Alternatively, rows can be filtered by a set of values in a given column.\n",
    "\n",
    "This works, even for very large numbers of matching values, given in an XArray.\n",
    "\n",
    "The filter can exclude as well as match."
   ]
  },
  {
   "cell_type": "code",
   "execution_count": 51,
   "metadata": {
    "collapsed": false
   },
   "outputs": [
    {
     "name": "stdout",
     "output_type": "stream",
     "text": [
      "+--------+----+-------+\n",
      "| charge | id | score |\n",
      "+--------+----+-------+\n",
      "|  103   | 3  |   13  |\n",
      "+--------+----+-------+\n",
      "[? rows x 3 columns]\n",
      "Note: Only the head of the XFrame is printed. This XFrame is lazily \n",
      "evaluated.  You can use len(xf) to force materialization.\n",
      "+--------+----+-------+\n",
      "| charge | id | score |\n",
      "+--------+----+-------+\n",
      "|  104   | 4  |   14  |\n",
      "|  105   | 5  |   15  |\n",
      "|  102   | 2  |   12  |\n",
      "+--------+----+-------+\n",
      "[? rows x 3 columns]\n",
      "Note: Only the head of the XFrame is printed. This XFrame is lazily \n",
      "evaluated.  You can use len(xf) to force materialization.\n"
     ]
    }
   ],
   "source": [
    "print xf.filterby(3, 'id')\n",
    "print xf.filterby([2, 4, 5], 'id')"
   ]
  },
  {
   "cell_type": "code",
   "execution_count": 52,
   "metadata": {
    "collapsed": false
   },
   "outputs": [
    {
     "name": "stdout",
     "output_type": "stream",
     "text": [
      "+--------+----+-------+\n",
      "| charge | id | score |\n",
      "+--------+----+-------+\n",
      "|  104   | 4  |   14  |\n",
      "|  102   | 2  |   12  |\n",
      "|  106   | 6  |   16  |\n",
      "|  107   | 7  |   17  |\n",
      "+--------+----+-------+\n",
      "[? rows x 3 columns]\n",
      "Note: Only the head of the XFrame is printed. This XFrame is lazily \n",
      "evaluated.  You can use len(xf) to force materialization.\n"
     ]
    }
   ],
   "source": [
    "xa = XArray([2, 4, 6, 7])\n",
    "print xf.filterby(xa, 'id')"
   ]
  },
  {
   "cell_type": "code",
   "execution_count": 53,
   "metadata": {
    "collapsed": false
   },
   "outputs": [
    {
     "name": "stdout",
     "output_type": "stream",
     "text": [
      "+--------+----+-------+\n",
      "| charge | id | score |\n",
      "+--------+----+-------+\n",
      "|  105   | 5  |   15  |\n",
      "|  108   | 8  |   18  |\n",
      "|  109   | 9  |   19  |\n",
      "|  103   | 3  |   13  |\n",
      "|  100   | 0  |   10  |\n",
      "|  101   | 1  |   11  |\n",
      "+--------+----+-------+\n",
      "[? rows x 3 columns]\n",
      "Note: Only the head of the XFrame is printed. This XFrame is lazily \n",
      "evaluated.  You can use len(xf) to force materialization.\n"
     ]
    }
   ],
   "source": [
    "print xf.filterby(xa, 'id', exclude=True)"
   ]
  },
  {
   "cell_type": "markdown",
   "metadata": {},
   "source": [
    "Finally, the beginning or ed of the XFrame can be extracted."
   ]
  },
  {
   "cell_type": "code",
   "execution_count": 54,
   "metadata": {
    "collapsed": false
   },
   "outputs": [
    {
     "name": "stdout",
     "output_type": "stream",
     "text": [
      "+--------+----+-------+\n",
      "| charge | id | score |\n",
      "+--------+----+-------+\n",
      "|  100   | 0  |   10  |\n",
      "|  101   | 1  |   11  |\n",
      "+--------+----+-------+\n",
      "[? rows x 3 columns]\n",
      "Note: Only the head of the XFrame is printed. This XFrame is lazily \n",
      "evaluated.  You can use len(xf) to force materialization.\n",
      "+--------+----+-------+\n",
      "| charge | id | score |\n",
      "+--------+----+-------+\n",
      "|  108   | 8  |   18  |\n",
      "|  109   | 9  |   19  |\n",
      "+--------+----+-------+\n",
      "[? rows x 3 columns]\n",
      "Note: Only the head of the XFrame is printed. This XFrame is lazily \n",
      "evaluated.  You can use len(xf) to force materialization.\n"
     ]
    }
   ],
   "source": [
    "print xf.head(2)\n",
    "print xf.tail(2)"
   ]
  },
  {
   "cell_type": "markdown",
   "metadata": {},
   "source": [
    "## XArray Transformation"
   ]
  },
  {
   "cell_type": "markdown",
   "metadata": {},
   "source": [
    "A transformation function can be applied to a column or to the table row.  \n",
    "\n",
    "In either case, the function returns a single value, which is collected into an XArray.  This is usually stored in a new column, or used to overwrite an existing column.\n",
    "\n",
    "When transforming a row, the function receives the row as a dictionary of column name/value pairs."
   ]
  },
  {
   "cell_type": "code",
   "execution_count": 55,
   "metadata": {
    "collapsed": false
   },
   "outputs": [],
   "source": [
    "xf = XFrame({'id': range(0, 10), 'score': range(10, 20), 'charge': range(100,110)})"
   ]
  },
  {
   "cell_type": "code",
   "execution_count": 56,
   "metadata": {
    "collapsed": false
   },
   "outputs": [
    {
     "name": "stdout",
     "output_type": "stream",
     "text": [
      "+--------+----+-------+---------------+\n",
      "| charge | id | score |      sqrt     |\n",
      "+--------+----+-------+---------------+\n",
      "|  100   | 0  |   10  | 3.16227766017 |\n",
      "|  101   | 1  |   11  | 3.31662479036 |\n",
      "|  102   | 2  |   12  | 3.46410161514 |\n",
      "|  103   | 3  |   13  | 3.60555127546 |\n",
      "|  104   | 4  |   14  | 3.74165738677 |\n",
      "|  105   | 5  |   15  | 3.87298334621 |\n",
      "|  106   | 6  |   16  |      4.0      |\n",
      "|  107   | 7  |   17  | 4.12310562562 |\n",
      "|  108   | 8  |   18  | 4.24264068712 |\n",
      "|  109   | 9  |   19  | 4.35889894354 |\n",
      "+--------+----+-------+---------------+\n",
      "[? rows x 4 columns]\n",
      "Note: Only the head of the XFrame is printed. This XFrame is lazily \n",
      "evaluated.  You can use len(xf) to force materialization.\n"
     ]
    }
   ],
   "source": [
    "from math import sqrt\n",
    "xf.sqrt = xf.score.apply(lambda x: sqrt(x))\n",
    "print xf"
   ]
  },
  {
   "cell_type": "code",
   "execution_count": 57,
   "metadata": {
    "collapsed": false
   },
   "outputs": [
    {
     "name": "stdout",
     "output_type": "stream",
     "text": [
      "[100, 100, 100, 100, 100, 100, 100, 100, 100, 100]\n"
     ]
    }
   ],
   "source": [
    "print xf.apply(lambda row: row['charge'] - row['id'])"
   ]
  },
  {
   "cell_type": "markdown",
   "metadata": {},
   "source": [
    "## Other Useful Transformations -- Pack and Stack"
   ]
  },
  {
   "cell_type": "markdown",
   "metadata": {},
   "source": [
    "Packing is transforming multiple columns into a single column by combining them into a dictionary or list.\n",
    "\n",
    "Unpacking transforms a list or dictionary in a column into multiple columns.\n",
    "\n",
    "Stacking takes values in a list or dictionary and puts them in multiple rows.\n",
    "\n",
    "Unstacking takes multiple rows into a dictiary or list in one row.\n",
    "\n",
    "These are rarely used but when they are needed they are vital.  They are useful when operating on aggregated data produced by groupby.  For instance, these were used in detecting fuzzy duplicates and hospital readmissions."
   ]
  },
  {
   "cell_type": "markdown",
   "metadata": {},
   "source": [
    "## Missing Values"
   ]
  },
  {
   "cell_type": "code",
   "execution_count": 58,
   "metadata": {
    "collapsed": false
   },
   "outputs": [
    {
     "name": "stdout",
     "output_type": "stream",
     "text": [
      "+----+---------+----------+\n",
      "| id |   name  |  scores  |\n",
      "+----+---------+----------+\n",
      "| 1  | charlie | [90, 80] |\n",
      "| 2  |   joe   |   None   |\n",
      "| 3  |  jason  | [95, 99] |\n",
      "+----+---------+----------+\n",
      "[? rows x 3 columns]\n",
      "Note: Only the head of the XFrame is printed. This XFrame is lazily \n",
      "evaluated.  You can use len(xf) to force materialization.\n"
     ]
    }
   ],
   "source": [
    "xf = XFrame({'id': [1, 2, 3], 'name': ['charlie', 'joe', 'jason'], 'scores': [[90, 80], None, [95, 99]]})\n",
    "print xf"
   ]
  },
  {
   "cell_type": "code",
   "execution_count": 59,
   "metadata": {
    "collapsed": false
   },
   "outputs": [
    {
     "name": "stdout",
     "output_type": "stream",
     "text": [
      "+----+---------+----------+\n",
      "| id |   name  |  scores  |\n",
      "+----+---------+----------+\n",
      "| 1  | charlie | [90, 80] |\n",
      "| 3  |  jason  | [95, 99] |\n",
      "+----+---------+----------+\n",
      "[? rows x 3 columns]\n",
      "Note: Only the head of the XFrame is printed. This XFrame is lazily \n",
      "evaluated.  You can use len(xf) to force materialization.\n"
     ]
    }
   ],
   "source": [
    "print xf.dropna()"
   ]
  },
  {
   "cell_type": "code",
   "execution_count": 60,
   "metadata": {
    "collapsed": false
   },
   "outputs": [
    {
     "name": "stdout",
     "output_type": "stream",
     "text": [
      "+----+---------+----------+\n",
      "| id |   name  |  scores  |\n",
      "+----+---------+----------+\n",
      "| 1  | charlie | [90, 80] |\n",
      "| 2  |   joe   |    []    |\n",
      "| 3  |  jason  | [95, 99] |\n",
      "+----+---------+----------+\n",
      "[? rows x 3 columns]\n",
      "Note: Only the head of the XFrame is printed. This XFrame is lazily \n",
      "evaluated.  You can use len(xf) to force materialization.\n"
     ]
    }
   ],
   "source": [
    "print xf.fillna('scores', [])"
   ]
  },
  {
   "cell_type": "code",
   "execution_count": 61,
   "metadata": {
    "collapsed": false
   },
   "outputs": [
    {
     "name": "stdout",
     "output_type": "stream",
     "text": [
      "+----+---------+----------+\n",
      "| id |   name  |  scores  |\n",
      "+----+---------+----------+\n",
      "| 1  | charlie | [90, 80] |\n",
      "| 3  |  jason  | [95, 99] |\n",
      "+----+---------+----------+\n",
      "[? rows x 3 columns]\n",
      "Note: Only the head of the XFrame is printed. This XFrame is lazily \n",
      "evaluated.  You can use len(xf) to force materialization.\n",
      "+----+------+--------+\n",
      "| id | name | scores |\n",
      "+----+------+--------+\n",
      "| 2  | joe  |  None  |\n",
      "+----+------+--------+\n",
      "[? rows x 3 columns]\n",
      "Note: Only the head of the XFrame is printed. This XFrame is lazily \n",
      "evaluated.  You can use len(xf) to force materialization.\n"
     ]
    }
   ],
   "source": [
    "ok, missing = xf.dropna_split()\n",
    "print ok\n",
    "print missing"
   ]
  },
  {
   "cell_type": "markdown",
   "metadata": {},
   "source": [
    "## Other Transformations"
   ]
  },
  {
   "cell_type": "markdown",
   "metadata": {},
   "source": [
    "Add a row number to an XArray, optionally giving the column name."
   ]
  },
  {
   "cell_type": "code",
   "execution_count": 62,
   "metadata": {
    "collapsed": false
   },
   "outputs": [
    {
     "name": "stdout",
     "output_type": "stream",
     "text": [
      "+---------+----------+\n",
      "|   name  |  scores  |\n",
      "+---------+----------+\n",
      "| charlie | [90, 80] |\n",
      "|   joe   |   None   |\n",
      "|  jason  | [95, 99] |\n",
      "+---------+----------+\n",
      "[? rows x 2 columns]\n",
      "Note: Only the head of the XFrame is printed. This XFrame is lazily \n",
      "evaluated.  You can use len(xf) to force materialization.\n"
     ]
    }
   ],
   "source": [
    "xf = XFrame({'name': ['charlie', 'joe', 'jason'], 'scores': [[90, 80], None, [95, 99]]})\n",
    "print xf"
   ]
  },
  {
   "cell_type": "code",
   "execution_count": 63,
   "metadata": {
    "collapsed": false
   },
   "outputs": [
    {
     "name": "stdout",
     "output_type": "stream",
     "text": [
      "+----+---------+----------+\n",
      "| id |   name  |  scores  |\n",
      "+----+---------+----------+\n",
      "| 0  | charlie | [90, 80] |\n",
      "| 1  |   joe   |   None   |\n",
      "| 2  |  jason  | [95, 99] |\n",
      "+----+---------+----------+\n",
      "[? rows x 3 columns]\n",
      "Note: Only the head of the XFrame is printed. This XFrame is lazily \n",
      "evaluated.  You can use len(xf) to force materialization.\n"
     ]
    }
   ],
   "source": [
    "print xf.add_row_number()"
   ]
  },
  {
   "cell_type": "code",
   "execution_count": 64,
   "metadata": {
    "collapsed": false
   },
   "outputs": [
    {
     "name": "stdout",
     "output_type": "stream",
     "text": [
      "+---------+----------+\n",
      "|   name  |  scores  |\n",
      "+---------+----------+\n",
      "| charlie | [90, 80] |\n",
      "|   joe   |   None   |\n",
      "+---------+----------+\n",
      "[? rows x 2 columns]\n",
      "Note: Only the head of the XFrame is printed. This XFrame is lazily \n",
      "evaluated.  You can use len(xf) to force materialization.\n",
      "+-------+----------+\n",
      "|  name |  scores  |\n",
      "+-------+----------+\n",
      "| jason | [95, 99] |\n",
      "+-------+----------+\n",
      "[? rows x 2 columns]\n",
      "Note: Only the head of the XFrame is printed. This XFrame is lazily \n",
      "evaluated.  You can use len(xf) to force materialization.\n"
     ]
    }
   ],
   "source": [
    "xf1 = XFrame({'name': ['charlie', 'joe'], 'scores': [[90, 80], None]})\n",
    "xf2 = XFrame({'name': ['jason'], 'scores': [[95, 99]]})\n",
    "print xf1\n",
    "print xf2"
   ]
  },
  {
   "cell_type": "code",
   "execution_count": 65,
   "metadata": {
    "collapsed": false
   },
   "outputs": [
    {
     "name": "stdout",
     "output_type": "stream",
     "text": [
      "+---------+----------+\n",
      "|   name  |  scores  |\n",
      "+---------+----------+\n",
      "| charlie | [90, 80] |\n",
      "|   joe   |   None   |\n",
      "|  jason  | [95, 99] |\n",
      "+---------+----------+\n",
      "[? rows x 2 columns]\n",
      "Note: Only the head of the XFrame is printed. This XFrame is lazily \n",
      "evaluated.  You can use len(xf) to force materialization.\n"
     ]
    }
   ],
   "source": [
    "print xf1.append(xf2)"
   ]
  },
  {
   "cell_type": "markdown",
   "metadata": {},
   "source": [
    "## Sort and Unique"
   ]
  },
  {
   "cell_type": "code",
   "execution_count": 66,
   "metadata": {
    "collapsed": false
   },
   "outputs": [
    {
     "name": "stdout",
     "output_type": "stream",
     "text": [
      "+----+-----+\n",
      "| id | val |\n",
      "+----+-----+\n",
      "| 0  |  0  |\n",
      "| 1  |  0  |\n",
      "| 2  |  1  |\n",
      "| 3  |  1  |\n",
      "| 4  |  2  |\n",
      "| 5  |  2  |\n",
      "| 6  |  3  |\n",
      "| 7  |  3  |\n",
      "| 8  |  4  |\n",
      "| 9  |  4  |\n",
      "+----+-----+\n",
      "[? rows x 2 columns]\n",
      "Note: Only the head of the XFrame is printed. This XFrame is lazily \n",
      "evaluated.  You can use len(xf) to force materialization.\n"
     ]
    }
   ],
   "source": [
    "xf = XFrame({'id': range(10)})\n",
    "xf.val = xf.id/2\n",
    "print xf"
   ]
  },
  {
   "cell_type": "code",
   "execution_count": 67,
   "metadata": {
    "collapsed": false
   },
   "outputs": [
    {
     "name": "stdout",
     "output_type": "stream",
     "text": [
      "+----+-----+\n",
      "| id | val |\n",
      "+----+-----+\n",
      "| 0  |  0  |\n",
      "| 1  |  0  |\n",
      "| 2  |  1  |\n",
      "| 3  |  1  |\n",
      "| 4  |  2  |\n",
      "| 5  |  2  |\n",
      "| 6  |  3  |\n",
      "| 7  |  3  |\n",
      "| 8  |  4  |\n",
      "| 9  |  4  |\n",
      "+----+-----+\n",
      "[? rows x 2 columns]\n",
      "Note: Only the head of the XFrame is printed. This XFrame is lazily \n",
      "evaluated.  You can use len(xf) to force materialization.\n",
      "+----+-----+\n",
      "| id | val |\n",
      "+----+-----+\n",
      "| 8  |  4  |\n",
      "| 9  |  4  |\n",
      "| 6  |  3  |\n",
      "| 7  |  3  |\n",
      "| 4  |  2  |\n",
      "| 5  |  2  |\n",
      "| 2  |  1  |\n",
      "| 3  |  1  |\n",
      "| 0  |  0  |\n",
      "| 1  |  0  |\n",
      "+----+-----+\n",
      "[? rows x 2 columns]\n",
      "Note: Only the head of the XFrame is printed. This XFrame is lazily \n",
      "evaluated.  You can use len(xf) to force materialization.\n",
      "+----+-----+\n",
      "| id | val |\n",
      "+----+-----+\n",
      "| 9  |  4  |\n",
      "| 8  |  4  |\n",
      "| 7  |  3  |\n",
      "| 6  |  3  |\n",
      "| 5  |  2  |\n",
      "| 4  |  2  |\n",
      "| 3  |  1  |\n",
      "| 2  |  1  |\n",
      "| 1  |  0  |\n",
      "| 0  |  0  |\n",
      "+----+-----+\n",
      "[? rows x 2 columns]\n",
      "Note: Only the head of the XFrame is printed. This XFrame is lazily \n",
      "evaluated.  You can use len(xf) to force materialization.\n"
     ]
    }
   ],
   "source": [
    "print xf.sort('val')\n",
    "print xf.sort('val', ascending=False)\n",
    "print xf.sort(['val', 'id'], ascending=False)"
   ]
  },
  {
   "cell_type": "markdown",
   "metadata": {},
   "source": [
    "Sometimes all we need is a list of the largest (or smallest) values in a column."
   ]
  },
  {
   "cell_type": "code",
   "execution_count": 68,
   "metadata": {
    "collapsed": false
   },
   "outputs": [
    {
     "name": "stdout",
     "output_type": "stream",
     "text": [
      "+----+-----+\n",
      "| id | val |\n",
      "+----+-----+\n",
      "| 9  |  4  |\n",
      "| 8  |  4  |\n",
      "| 7  |  3  |\n",
      "+----+-----+\n",
      "[? rows x 2 columns]\n",
      "Note: Only the head of the XFrame is printed. This XFrame is lazily \n",
      "evaluated.  You can use len(xf) to force materialization.\n",
      "+----+-----+\n",
      "| id | val |\n",
      "+----+-----+\n",
      "| 0  |  0  |\n",
      "| 1  |  0  |\n",
      "| 2  |  1  |\n",
      "+----+-----+\n",
      "[? rows x 2 columns]\n",
      "Note: Only the head of the XFrame is printed. This XFrame is lazily \n",
      "evaluated.  You can use len(xf) to force materialization.\n"
     ]
    }
   ],
   "source": [
    "print xf.topk('id', k=3)\n",
    "print xf.topk('id', reverse=True, k=3)"
   ]
  },
  {
   "cell_type": "markdown",
   "metadata": {},
   "source": [
    "To get an XArray of the unique values in a given column, use 'unique'."
   ]
  },
  {
   "cell_type": "code",
   "execution_count": 69,
   "metadata": {
    "collapsed": false
   },
   "outputs": [
    {
     "name": "stdout",
     "output_type": "stream",
     "text": [
      "[0, 4, 1, 2, 3]\n"
     ]
    }
   ],
   "source": [
    "print xf.val.unique()"
   ]
  },
  {
   "cell_type": "markdown",
   "metadata": {},
   "source": [
    "## Aggregation"
   ]
  },
  {
   "cell_type": "markdown",
   "metadata": {},
   "source": [
    "Building on the unique example above, we might want to find how many rows were associated with each unique value.  Furthermore, we might need to collect, or average, or do some other operation on all the elements in the group of rows associated with each unique value."
   ]
  },
  {
   "cell_type": "code",
   "execution_count": 70,
   "metadata": {
    "collapsed": false
   },
   "outputs": [
    {
     "name": "stdout",
     "output_type": "stream",
     "text": [
      "+----+-----+\n",
      "| id | val |\n",
      "+----+-----+\n",
      "| 0  |  0  |\n",
      "| 1  |  0  |\n",
      "| 2  |  1  |\n",
      "| 3  |  1  |\n",
      "| 4  |  2  |\n",
      "| 5  |  2  |\n",
      "| 6  |  3  |\n",
      "| 7  |  3  |\n",
      "| 8  |  4  |\n",
      "| 9  |  4  |\n",
      "+----+-----+\n",
      "[? rows x 2 columns]\n",
      "Note: Only the head of the XFrame is printed. This XFrame is lazily \n",
      "evaluated.  You can use len(xf) to force materialization.\n"
     ]
    }
   ],
   "source": [
    "xf = XFrame({'id': range(10)})\n",
    "xf.val = xf.id/2\n",
    "print xf"
   ]
  },
  {
   "cell_type": "code",
   "execution_count": 71,
   "metadata": {
    "collapsed": false
   },
   "outputs": [
    {
     "name": "stdout",
     "output_type": "stream",
     "text": [
      "+-----+-------+\n",
      "| val | count |\n",
      "+-----+-------+\n",
      "|  3  |   2   |\n",
      "|  4  |   2   |\n",
      "|  0  |   2   |\n",
      "|  1  |   2   |\n",
      "|  2  |   2   |\n",
      "+-----+-------+\n",
      "[? rows x 2 columns]\n",
      "Note: Only the head of the XFrame is printed. This XFrame is lazily \n",
      "evaluated.  You can use len(xf) to force materialization.\n"
     ]
    }
   ],
   "source": [
    "print xf.groupby('val', COUNT)"
   ]
  },
  {
   "cell_type": "markdown",
   "metadata": {},
   "source": [
    "You can name the aggregate column.  If you don't, a reasonable name is supplied, as above."
   ]
  },
  {
   "cell_type": "code",
   "execution_count": 72,
   "metadata": {
    "collapsed": false
   },
   "outputs": [
    {
     "name": "stdout",
     "output_type": "stream",
     "text": [
      "+-----+--------+\n",
      "| val | number |\n",
      "+-----+--------+\n",
      "|  3  |   2    |\n",
      "|  4  |   2    |\n",
      "|  0  |   2    |\n",
      "|  1  |   2    |\n",
      "|  2  |   2    |\n",
      "+-----+--------+\n",
      "[? rows x 2 columns]\n",
      "Note: Only the head of the XFrame is printed. This XFrame is lazily \n",
      "evaluated.  You can use len(xf) to force materialization.\n"
     ]
    }
   ],
   "source": [
    "print xf.groupby('val', {'number': COUNT})"
   ]
  },
  {
   "cell_type": "markdown",
   "metadata": {},
   "source": [
    "You can create multiple aggregates in one call to groupby.  Some aggregate functions have column name arguments."
   ]
  },
  {
   "cell_type": "code",
   "execution_count": 74,
   "metadata": {
    "collapsed": false
   },
   "outputs": [
    {
     "name": "stdout",
     "output_type": "stream",
     "text": [
      "+-----+-----+--------+\n",
      "| val | avg | number |\n",
      "+-----+-----+--------+\n",
      "|  3  | 6.5 |   2    |\n",
      "|  4  | 8.5 |   2    |\n",
      "|  0  | 0.5 |   2    |\n",
      "|  1  | 2.5 |   2    |\n",
      "|  2  | 4.5 |   2    |\n",
      "+-----+-----+--------+\n",
      "[? rows x 3 columns]\n",
      "Note: Only the head of the XFrame is printed. This XFrame is lazily \n",
      "evaluated.  You can use len(xf) to force materialization.\n"
     ]
    }
   ],
   "source": [
    "print xf.groupby('val', {'number': COUNT, 'avg': MEAN('id')})"
   ]
  },
  {
   "cell_type": "markdown",
   "metadata": {},
   "source": [
    "Concatenation is very useful, because you can  do further processing on the new value.  Hospital readmissions starts this way, grouping on the readmission criteria and concatenating the discharge and admission dates.  The concatenated field is often expanded into multiple rows after processing using 'stack'."
   ]
  },
  {
   "cell_type": "code",
   "execution_count": 75,
   "metadata": {
    "collapsed": false
   },
   "outputs": [
    {
     "name": "stdout",
     "output_type": "stream",
     "text": [
      "+-----+-----+--------+--------+\n",
      "| val | avg | number |  ids   |\n",
      "+-----+-----+--------+--------+\n",
      "|  3  | 6.5 |   2    | [6, 7] |\n",
      "|  4  | 8.5 |   2    | [8, 9] |\n",
      "|  0  | 0.5 |   2    | [0, 1] |\n",
      "|  1  | 2.5 |   2    | [2, 3] |\n",
      "|  2  | 4.5 |   2    | [4, 5] |\n",
      "+-----+-----+--------+--------+\n",
      "[? rows x 4 columns]\n",
      "Note: Only the head of the XFrame is printed. This XFrame is lazily \n",
      "evaluated.  You can use len(xf) to force materialization.\n"
     ]
    }
   ],
   "source": [
    "print xf.groupby('val', {'number': COUNT, 'ids': CONCAT('id'), 'avg': MEAN('id')})"
   ]
  },
  {
   "cell_type": "markdown",
   "metadata": {},
   "source": [
    "## Joining Tables"
   ]
  },
  {
   "cell_type": "markdown",
   "metadata": {},
   "source": [
    "Join builds on groupby by combining rows of different tables that share a common value."
   ]
  },
  {
   "cell_type": "code",
   "execution_count": 76,
   "metadata": {
    "collapsed": false
   },
   "outputs": [
    {
     "name": "stdout",
     "output_type": "stream",
     "text": [
      "+---------+---------+\n",
      "|   name  | user_id |\n",
      "+---------+---------+\n",
      "| charlie |    1    |\n",
      "|   joe   |    2    |\n",
      "|  jason  |    3    |\n",
      "+---------+---------+\n",
      "[? rows x 2 columns]\n",
      "Note: Only the head of the XFrame is printed. This XFrame is lazily \n",
      "evaluated.  You can use len(xf) to force materialization.\n",
      "+-------+---------+\n",
      "| score | user_id |\n",
      "+-------+---------+\n",
      "|   90  |    1    |\n",
      "|   80  |    1    |\n",
      "|   95  |    3    |\n",
      "+-------+---------+\n",
      "[? rows x 2 columns]\n",
      "Note: Only the head of the XFrame is printed. This XFrame is lazily \n",
      "evaluated.  You can use len(xf) to force materialization.\n"
     ]
    }
   ],
   "source": [
    "users = XFrame({'user_id':  [1, 2, 3], 'name': ['charlie', 'joe', 'jason']})\n",
    "scores = XFrame({'user_id': [1, 1, 3], 'score': [90, 80, 95]})\n",
    "print users\n",
    "print scores"
   ]
  },
  {
   "cell_type": "code",
   "execution_count": 77,
   "metadata": {
    "collapsed": false
   },
   "outputs": [
    {
     "name": "stdout",
     "output_type": "stream",
     "text": [
      "+---------+---------+-------+\n",
      "|   name  | user_id | score |\n",
      "+---------+---------+-------+\n",
      "|  jason  |    3    |   95  |\n",
      "| charlie |    1    |   90  |\n",
      "| charlie |    1    |   80  |\n",
      "+---------+---------+-------+\n",
      "[? rows x 3 columns]\n",
      "Note: Only the head of the XFrame is printed. This XFrame is lazily \n",
      "evaluated.  You can use len(xf) to force materialization.\n"
     ]
    }
   ],
   "source": [
    "print users.join(scores)"
   ]
  },
  {
   "cell_type": "markdown",
   "metadata": {},
   "source": [
    "If the column names in the tables differ, then they can be supplied explicitly.  Otherwise, the join takes place on all common columns."
   ]
  },
  {
   "cell_type": "code",
   "execution_count": 78,
   "metadata": {
    "collapsed": false
   },
   "outputs": [
    {
     "name": "stdout",
     "output_type": "stream",
     "text": [
      "+---------+------+-------+\n",
      "|   name  | user | score |\n",
      "+---------+------+-------+\n",
      "|  jason  |  3   |   95  |\n",
      "| charlie |  1   |   90  |\n",
      "| charlie |  1   |   80  |\n",
      "+---------+------+-------+\n",
      "[? rows x 3 columns]\n",
      "Note: Only the head of the XFrame is printed. This XFrame is lazily \n",
      "evaluated.  You can use len(xf) to force materialization.\n"
     ]
    }
   ],
   "source": [
    "users = XFrame({'user':  [1, 2, 3], 'name': ['charlie', 'joe', 'jason']})\n",
    "scores = XFrame({'user_id': [1, 1, 3], 'score': [90, 80, 95]})\n",
    "print users.join(scores, on={'user': 'user_id'})"
   ]
  },
  {
   "cell_type": "markdown",
   "metadata": {},
   "source": [
    "Other join options:\n",
    "* Multiple column join keys: users.join(socres, [user_id', 'semester'])\n",
    "* Other join types: users.join(scores, how='right')"
   ]
  },
  {
   "cell_type": "markdown",
   "metadata": {},
   "source": [
    "## Column Summary Information -- Sketch"
   ]
  },
  {
   "cell_type": "markdown",
   "metadata": {},
   "source": [
    "A *Sketch* contains summary information about a column.  This includes statistics like the number of items, the min and the max.\n",
    "For numerical columns, the sketch also include statistics such as the sum, mean and standard deviation.\n",
    "\n",
    "The sketch also includes information that is computed approximately.  This includes quantile information and occurrence counts for the most frequently occurring items.  These approximations are created in bounded space efficiently on a distributed cluster."
   ]
  },
  {
   "cell_type": "code",
   "execution_count": 79,
   "metadata": {
    "collapsed": false
   },
   "outputs": [],
   "source": [
    "xa = XArray([2, 2, 3, 4, 4, 4, 5])"
   ]
  },
  {
   "cell_type": "code",
   "execution_count": 80,
   "metadata": {
    "collapsed": false
   },
   "outputs": [
    {
     "name": "stdout",
     "output_type": "stream",
     "text": [
      "7\n",
      "2.0 5.0\n",
      "1.04978131834\n"
     ]
    }
   ],
   "source": [
    "ss = xa.sketch_summary()\n",
    "print ss.size()\n",
    "print ss.min(),  ss.max()\n",
    "print ss.std()"
   ]
  },
  {
   "cell_type": "code",
   "execution_count": 81,
   "metadata": {
    "collapsed": false
   },
   "outputs": [
    {
     "name": "stdout",
     "output_type": "stream",
     "text": [
      "3.99969482422\n"
     ]
    }
   ],
   "source": [
    "print ss.quantile(0.5)"
   ]
  },
  {
   "cell_type": "code",
   "execution_count": 82,
   "metadata": {
    "collapsed": false
   },
   "outputs": [
    {
     "name": "stdout",
     "output_type": "stream",
     "text": [
      "{2: 2, 3: 1, 4: 3, 5: 1}\n",
      "2\n"
     ]
    }
   ],
   "source": [
    "print ss.frequent_items()\n",
    "print ss.frequency_count(2)"
   ]
  },
  {
   "cell_type": "markdown",
   "metadata": {},
   "source": [
    "## Plotting"
   ]
  },
  {
   "cell_type": "markdown",
   "metadata": {},
   "source": [
    "In general, plotting is best left to the application.  Matplotlib provides a wealth of plot types and options, and the data has to be brought into python on the master to plot anyway.  \n",
    "\n",
    "With this in mind, XFrames plotting is limited to plots that help to understand the general characteristics of the data.  This includes plotting a histogram of values in a numerical column, and a frequent-values plot for categorical data."
   ]
  },
  {
   "cell_type": "code",
   "execution_count": 83,
   "metadata": {
    "collapsed": false
   },
   "outputs": [],
   "source": [
    "xf = XFrame('scores.csv')"
   ]
  },
  {
   "cell_type": "code",
   "execution_count": 85,
   "metadata": {
    "collapsed": false
   },
   "outputs": [
    {
     "data": {
      "image/png": "[encoded data removed]",
      "text/plain": [
       "<matplotlib.figure.Figure at 0x3dded90>"
      ]
     },
     "metadata": {},
     "output_type": "display_data"
    }
   ],
   "source": [
    "xf.show().histogram(xf['score'])"
   ]
  },
  {
   "cell_type": "markdown",
   "metadata": {},
   "source": [
    "There are many plotting and labeling options that you can use to customize the plot.  Here we change the number of bins and label the y axis."
   ]
  },
  {
   "cell_type": "code",
   "execution_count": 89,
   "metadata": {
    "collapsed": false
   },
   "outputs": [
    {
     "name": "stdout",
     "output_type": "stream",
     "text": [
      "step 1\n"
     ]
    },
    {
     "data": {
      "image/png": "[encoded data removed]",
      "text/plain": [
       "<matplotlib.figure.Figure at 0x3f88150>"
      ]
     },
     "metadata": {},
     "output_type": "display_data"
    }
   ],
   "source": [
    "xf.show().histogram(xf['score'], bins=3, ylabel='number of occurrances', title='Score Histogram')"
   ]
  },
  {
   "cell_type": "markdown",
   "metadata": {},
   "source": [
    "The next plot illustrates showing the most frequent items in a column."
   ]
  },
  {
   "cell_type": "code",
   "execution_count": 93,
   "metadata": {
    "collapsed": false
   },
   "outputs": [
    {
     "data": {
      "image/png": "[encoded data removed]",
      "text/plain": [
       "<matplotlib.figure.Figure at 0x65a5190>"
      ]
     },
     "metadata": {},
     "output_type": "display_data"
    }
   ],
   "source": [
    "xf.show().frequent_values('name')"
   ]
  },
  {
   "cell_type": "markdown",
   "metadata": {},
   "source": [
    "## MLlib"
   ]
  },
  {
   "cell_type": "markdown",
   "metadata": {},
   "source": [
    "MLlib is a machine learning library for spark.  It does not aim to be comprehensive, but does include a number of modeling algorithms that are designed to run well in a distributed computing cluster.  \n",
    "\n",
    "For a more extensive machine learning library you can create a pandas DataFrame or an xPatterns DataFramePlus, and use machine learning algorithms from SciKitLearn, or from the xPatterns machine learning library.  You might need to take a sample of the data, using XFrame.sample.\n",
    "\n",
    "To use the spark MLlib functions you could use XFrame.to_spark_dataframe and call MLlib directly.  The XFrames library includes convenience functions that allow you to conveniently operate on XFrame objects directly.  \n"
   ]
  },
  {
   "cell_type": "code",
   "execution_count": 94,
   "metadata": {
    "collapsed": false
   },
   "outputs": [
    {
     "name": "stdout",
     "output_type": "stream",
     "text": [
      "+---------+---------+--------+-----------+\n",
      "| user_id | item_id | rating | timestamp |\n",
      "+---------+---------+--------+-----------+\n",
      "|    42   |   523   |   5    | 881107375 |\n",
      "|   286   |   741   |   4    | 876521887 |\n",
      "|   436   |   1058  |   4    | 887770547 |\n",
      "+---------+---------+--------+-----------+\n",
      "[100000 rows x 4 columns]\n",
      "\n"
     ]
    }
   ],
   "source": [
    "ratings = XFrame('models/recommender-model/ratings')\n",
    "ratings.print_rows(num_rows=3)"
   ]
  },
  {
   "cell_type": "markdown",
   "metadata": {},
   "source": [
    "We can create a model from the existing ratings by giving a XFrame, and the column names containing the user, item, and rating data."
   ]
  },
  {
   "cell_type": "code",
   "execution_count": 95,
   "metadata": {
    "collapsed": false
   },
   "outputs": [],
   "source": [
    "model = recommender.create(ratings, 'user_id', 'item_id', 'rating')"
   ]
  },
  {
   "cell_type": "markdown",
   "metadata": {},
   "source": [
    "Using a trained model, we can then predict how a given user would rate movies.  The recommend_top_k function finds the highest predictions for a given user among the items that user has not already rated."
   ]
  },
  {
   "cell_type": "code",
   "execution_count": 96,
   "metadata": {
    "collapsed": false
   },
   "outputs": [
    {
     "name": "stdout",
     "output_type": "stream",
     "text": [
      "+---------+---------+---------------+\n",
      "| user_id | item_id |     rating    |\n",
      "+---------+---------+---------------+\n",
      "|    42   |   393   | 5.68227442553 |\n",
      "|    42   |   166   | 5.66388908203 |\n",
      "|    42   |   520   | 5.49942144465 |\n",
      "|    42   |    22   | 5.43843581225 |\n",
      "|    42   |   313   | 5.42042010567 |\n",
      "|    42   |   165   |  5.2414310761 |\n",
      "|    42   |   609   | 5.18912790745 |\n",
      "|    42   |   139   | 5.09336557996 |\n",
      "|    42   |   482   | 5.04372048271 |\n",
      "|    42   |   199   |  5.0372788594 |\n",
      "+---------+---------+---------------+\n",
      "[? rows x 3 columns]\n",
      "Note: Only the head of the XFrame is printed. This XFrame is lazily \n",
      "evaluated.  You can use len(xf) to force materialization.\n"
     ]
    }
   ],
   "source": [
    "print model.recommend_top_k(42)"
   ]
  },
  {
   "cell_type": "markdown",
   "metadata": {},
   "source": [
    "Normally you need to store a model and to read it back later."
   ]
  },
  {
   "cell_type": "code",
   "execution_count": 97,
   "metadata": {
    "collapsed": false
   },
   "outputs": [],
   "source": [
    "model.save('models/my_model')"
   ]
  },
  {
   "cell_type": "markdown",
   "metadata": {},
   "source": [
    "### Other MLlib Models"
   ]
  },
  {
   "cell_type": "markdown",
   "metadata": {},
   "source": [
    "MLlib includes models for classification and regression.  These are included in XFrames, but the implementation is incomplete because the python interface to this part of MLlib is incomplete. For instance, the current version of the classifier and regression model objects are missing load and save methods."
   ]
  },
  {
   "cell_type": "markdown",
   "metadata": {},
   "source": [
    "## Getting Started"
   ]
  },
  {
   "cell_type": "markdown",
   "metadata": {},
   "source": [
    "The easiest way to get started is to install a Docker container, which contains a spark installation running in local mode.\n",
    "\n",
    "Check out the XFrame project from gitlab: \n",
    "\n",
    "    git clone http://github.com/cchayden/xframes.git\n",
    "    cd xframe/docker\n",
    "    ./build-xframes-docker\n",
    "    ./run-xframes-docker\n",
    "\n",
    "Then browse to:\n",
    "\n",
    "    http://localhost:7777/tree\n",
    "\n",
    "You can navigate to intro/Presentation.ipynb to see this presentation notebook.\n",
    "\n",
    "Note: this has been tested on Ubunto and Mac, but not on Windows."
   ]
  },
  {
   "cell_type": "markdown",
   "metadata": {},
   "source": [
    "## How To Install XFrames"
   ]
  },
  {
   "cell_type": "markdown",
   "metadata": {},
   "source": [
    "XFrames can be used in two modes: local and cluster.  In local mode, your program, the spark master, and the spark workers all run on your computer.  In this mode you can process data sets of modest size in reasonable time.  It is easiest to get started with local mode, because you can install everything you need.\n"
   ]
  },
  {
   "cell_type": "markdown",
   "metadata": {},
   "source": [
    "XFrames itself is simply a python library that be installed anywhere on the PYTHONAPTH.  If you already have IPython Notebook, spark, pandas, matplotlab, and the other dependencies installed and working, this might be the best option.  For most people it is easiest to use a Docker container, which supplies everything in one package."
   ]
  },
  {
   "cell_type": "markdown",
   "metadata": {},
   "source": [
    "# Under The Hood"
   ]
  },
  {
   "cell_type": "markdown",
   "metadata": {},
   "source": [
    "## XFrame Design Principles"
   ]
  },
  {
   "cell_type": "markdown",
   "metadata": {},
   "source": [
    "The most important design principle was to hide the spark implementation behind an interface.  The data scientist should not have to understand RDDs and how they work: everything that they need should be explainable in terms of arrays and frames.\n",
    "\n",
    "The next principle was to delegate the data manipulation itself to spark.  All XArray and XFrame operations result in calls to spark operations: the data never comes back to the master or to the application except as requested (to print or to return to the application).  This ensures that any improvements in spark's speed or memory performance will flow directly to XFrames.\n",
    "\n",
    "A related considerations was to make sure that XFrames does not subvert the spark laze evaluator.  For the most part, spark avoids performing any real work until the answer is actually required.  However, there are some operations (such as zipWithIndex) that force the lazy evaluator into action.  XFrames does everything it can to avoid invoking these operations.  When it must, XFrames caches the results so that subsequent operations reuse the intermediate results.\n",
    "\n",
    "Another principle was to build on python's operator overloading facility to make the syntax for vector arithmetic and column and row filtering simple and compact.  This approach was proven out by pandas, and gives XFrames the same flavor.\n",
    "\n",
    "The last principle was to provide high level operations that are tuned to the needs of the data scientist.  This includes explicit support for dealing with missing data, flexible support for grouping, joining, and filtering, and support for data reshaping operations such as pack/unpack/stack/unstack."
   ]
  },
  {
   "cell_type": "markdown",
   "metadata": {},
   "source": [
    "## XFrames Challenges"
   ]
  },
  {
   "cell_type": "markdown",
   "metadata": {},
   "source": [
    "XFrames development is at an early stage.  It has been used internally for several projects and has been extensively unit tested, but it still has a number of limitations.\n",
    "\n",
    "The goal with XFrames is to achieve the same or better performance as hand-crafted spark code.  Currently the XFrame methods takes the simplest and most straightforward strategy to implement each of its operations.  As time goes on we can discover where performance could be improved by better strategies, and supply them in the library.  In this way, we insulate the data scientist from having to become expert in spark optimization and have a place to encode our spark expertise for all to use.\n",
    "\n",
    "Spark's lazy evaluation improves the interactive experience and the overall execution time, but it does so at the expense of usable error messages.  The problem is that many things that can go wrong in a computation do not surface until the very last step, where the answer is being evaluated (often in a save, count, or collect operation).  The error was actually made long before this point, and the spark error output is often of little help in identifying what went wrong.\n",
    "\n",
    "XFrames addresses this by doing extensive checking before calling the spark operations.  It keeps track of column name and type as the operations are being interpreted (not in a lazy way) so that type errors are reported as they occur.  That does not completely solve the problem, so we need to find a way to analyze the kinds of failures people see in practice and relate them to the real source of the error.\n",
    "\n",
    "Finally, there are a number of spark API functions that are not used by XFrames.  We need to understand why these were included in spark: what they are for and when they would be appropriate to use.  In some cases, they are provided for performance improvement.  In these cases, the XFrames library needs to detect when it is in a situation appropriate to these specialized operations, and to make use of them.  If there are operations that are there because they are essential to some use case, then we need to evaluate whether XFrames needs a corresponding API.\n"
   ]
  },
  {
   "cell_type": "markdown",
   "metadata": {},
   "source": [
    "## Possible Improvements"
   ]
  },
  {
   "cell_type": "markdown",
   "metadata": {},
   "source": [
    "### Core Improvements"
   ]
  },
  {
   "cell_type": "markdown",
   "metadata": {},
   "source": [
    "* Better caching strategy\n",
    "  * If there is too little caching data is recomputed\n",
    "  * IOf there is too much caching data written to disk needlessly\n",
    "* Better algorithms\n",
    "  * Make better use if paritition-aware methods such as mapPartition\n",
    "  * Use different strategies fior different cases (for instance, implement filterby with filter for small sets, join for larger ones)\n",
    "  * Need better zip that does not require aligned partitions, but that does not do shuffle if they are aligned\n",
    "* Better partitioning strategy\n",
    "  * Maintain enough partitions to make use of cluster nodes/cores\n",
    "  * Balance with shuffle overhead"
   ]
  },
  {
   "cell_type": "markdown",
   "metadata": {},
   "source": [
    "### Machine Learning Improvements"
   ]
  },
  {
   "cell_type": "markdown",
   "metadata": {},
   "source": [
    "* MLlib (pySpark) is incomplete, inconsistent, and buggy (not ready for serious use)\n",
    "  * Model save/load is missing for most models\n",
    "  * Limited selection of algorithms\n",
    "* MLlib is being phased out in favor of ML\n",
    "* Can we wrap in xframes so the differences can be hidden?"
   ]
  },
  {
   "cell_type": "markdown",
   "metadata": {},
   "source": [
    "## Implementation Details"
   ]
  },
  {
   "cell_type": "markdown",
   "metadata": {},
   "source": [
    "### Storge Format"
   ]
  },
  {
   "cell_type": "markdown",
   "metadata": {},
   "source": [
    "For an XFrame, there are two ways that the data could have been stored: each row of the XFrame could be stored in an RDD row, or else each column could be stored separately.  Each makes sense: each choice makes some operations faster and others slower.\n",
    "\n",
    "Columnar storage makes vector arithmetic, column operations, and groupby efficient, but sort, filter, and join inefficient.\n",
    "\n",
    "Row storage makes sort, filter, and join efficient and vector arithmetic inefficient.  \n",
    "\n",
    "Either choice required RDD functions in the zip family (zip, zipWithIndex, etc).  These operations are problematic for the following reasons:\n",
    "  * ZipWithIndex does not work well with lazy evluation: it evaluates the RDD\n",
    "  * Operands of zip must have the same number of partitions, and the same number of elements in each partition.  There is no way to determine, at runtime, of these conditions are met.\n",
    "  * Before spark 1.3, pySpark zip operations were buggy\n",
    "  \n",
    "For simplicity, we decided to use row order for storing XFrames in RDDs.  It should be noted that internally the DataFrame (a subclass of RDD) stores data in columnar order, so it might be possible to use that to switch back and forth, depending on the nature of the operations being performed."
   ]
  },
  {
   "cell_type": "markdown",
   "metadata": {},
   "source": [
    "Each XArray and XFrame instance stores exactly one RDD.  All data is in the RDD.  In addition, type information as well as column name information (for XFrames) is stored outside the RDD.  \n",
    "\n",
    "When an XArray or XFrame is stored, the additional information is also stored.  The load functions use this to restore the additional data.\n"
   ]
  },
  {
   "cell_type": "markdown",
   "metadata": {},
   "source": [
    "### Operations"
   ]
  },
  {
   "cell_type": "markdown",
   "metadata": {},
   "source": [
    "Operator overloading is done using pythons *special function names*.  For instance, `a + b` is implemented as as `a.__add__(b)`, a method of class a.  This is used for the unary and binary scalar and vector arithmetic functions on XArray.\n",
    "\n",
    "In addition, the square bracket operation is implemented by `__getitem__` and `__setitem__`.  The XFrame method tests the type of the operand (at runtime) and implements either row selection (if the operand is an XArray) or column selection (if the operand is a string or a list of strings).  \n",
    "\n",
    "Many other XArray and XFrame make use of operand type overloading, performing different operations if their arguments are strings, lists, dictionaries, or XArrays.  This reduces the number if different operations that are defined, and also reduces the use of optional arguments."
   ]
  },
  {
   "cell_type": "markdown",
   "metadata": {},
   "source": [
    "Most operations delegate to a similarly-named RDD operation in spark.  Let's look at one example: the join operation.\n",
    "\n",
    "The RDD join operation required *pair RDDs*, that is a list of key/value pairs.  The key forld of each of the joined RDDs is used to do the matching.  The resulting row contains a triple: the key and the rows from each table.\n",
    "\n",
    "The XFrame join operation takes normal RDDs, creates pair RDDS, calls the RDD join operation, and then sorts out the result to produce another normal RDD.  \n",
    "\n",
    "The XFrame join operation determins the join key by considering the following cases:\n",
    "  * No join columns are given.  All common columns are used as join keys.  If there are no such columns, an error is thrown.\n",
    "  * A join column or list of columns is given.  These are used as the join columns.  As before, these must be present in both tables.\n",
    "  * A dictionary of name pairs is given.  These are interpreted as left/right table column names.  As before, the corresponding columns musrt exist in each table.\n",
    "\n",
    "Using the list of names, the corresponding column numbers are determined.  A RDD map operation on each of the tables generates pair RDDs.  The map operation concatenates columns (when there are more than one) using a json\n",
    "formatter, so there are no inadvertent matches due to unexpected column values.\n",
    "\n",
    "After the underlying join operation is complete, the key must be removed, and the two result fields must be merged.  There will be two copies of the key fields: one of them must be eliminated.  The same merging takes place on the column name and type information.  \n",
    "\n",
    "This example is meant to show that although the XFrame join is delegated to the RDD join, considerable work, including five map operations, is done as well to generate the kind of join operation that is useful to the data scientist."
   ]
  },
  {
   "cell_type": "markdown",
   "metadata": {},
   "source": [
    "## Nontrivial Operations"
   ]
  },
  {
   "cell_type": "markdown",
   "metadata": {},
   "source": [
    "### CSV Reading"
   ]
  },
  {
   "cell_type": "markdown",
   "metadata": {},
   "source": [
    "CSV files are read as lines of text, from any of the text file readers supported by spark.  Then a map job parses the lines with a CSV reader, converting them into spark arrays, which become rows in the RDD.  The python CSV reader looks at the first part of the file to determine column names and types, if there are no hints provided."
   ]
  },
  {
   "cell_type": "markdown",
   "metadata": {},
   "source": [
    "### Stack"
   ]
  },
  {
   "cell_type": "markdown",
   "metadata": {},
   "source": [
    "Stack has separate variants for list and dictionary.  Both rely on the RDD.flatMap operation to create multiple rows."
   ]
  },
  {
   "cell_type": "markdown",
   "metadata": {},
   "source": [
    "### Pack"
   ]
  },
  {
   "cell_type": "markdown",
   "metadata": {},
   "source": [
    "Pack also has variants for lists and dictionaries, and uses map internally."
   ]
  },
  {
   "cell_type": "markdown",
   "metadata": {},
   "source": [
    "### Apply "
   ]
  },
  {
   "cell_type": "markdown",
   "metadata": {},
   "source": [
    "Apply relies on RDD.map."
   ]
  },
  {
   "cell_type": "markdown",
   "metadata": {},
   "source": [
    "### Groupby"
   ]
  },
  {
   "cell_type": "markdown",
   "metadata": {},
   "source": [
    "Groupby, like join, starts by creating a key/value RDD, using the column or columns to group by using map.  It uses RDD.groupByKey to do the grouping, then another to unpack the grouped columns.  There are a built-in collection of predefined aggregators, which are processed by another map operation."
   ]
  },
  {
   "cell_type": "markdown",
   "metadata": {},
   "source": [
    "### Join"
   ]
  },
  {
   "cell_type": "markdown",
   "metadata": {},
   "source": [
    "Join was described earlier.  Map is used to build a key, then one of the variants of RDD.join does the join step, followed by another map step to create the result RDD."
   ]
  },
  {
   "cell_type": "markdown",
   "metadata": {},
   "source": [
    "### Filterby"
   ]
  },
  {
   "cell_type": "markdown",
   "metadata": {},
   "source": [
    "Filterby can take one or a list of values, or an XArray of many values.  If there are only a few filter values, then RDD.filter is used.  If an XArray is given, then filtering is done using join."
   ]
  },
  {
   "cell_type": "markdown",
   "metadata": {},
   "source": [
    "### Unstack"
   ]
  },
  {
   "cell_type": "markdown",
   "metadata": {},
   "source": [
    "Unstack uses groupby to coalesce columns."
   ]
  },
  {
   "cell_type": "markdown",
   "metadata": {},
   "source": [
    "### Unpack"
   ]
  },
  {
   "cell_type": "markdown",
   "metadata": {},
   "source": [
    "Unpack creates multiple columns using several passes of map.  In practice these are combined by the spark evaluator."
   ]
  },
  {
   "cell_type": "markdown",
   "metadata": {},
   "source": [
    "### Sketch"
   ]
  },
  {
   "cell_type": "markdown",
   "metadata": {},
   "source": [
    "Sketch uses the RDD stats command to compute most of the numerical quantities.  The frequent items and the quantile sketch is computed by spSpark code, only if these values are requested.  These two algorithms are the only complex operations involving data sets that are not delegated to spark.  Both are based on the min-count sketch data structure."
   ]
  },
  {
   "cell_type": "markdown",
   "metadata": {},
   "source": [
    "### Print"
   ]
  },
  {
   "cell_type": "markdown",
   "metadata": {},
   "source": [
    "Print is the most complex function in XFrames.  It extracts the subset of rows that are to be printed, then formats them to fit on the page."
   ]
  },
  {
   "cell_type": "markdown",
   "metadata": {},
   "source": [
    "## Trivial Operations"
   ]
  },
  {
   "cell_type": "markdown",
   "metadata": {},
   "source": [
    "The following operations consist of little else than a single call to an RDD primitive:\n",
    "* num_columns, column_names, column_types, set_column_name\n",
    "* num_rows (count)\n",
    "* head (take)\n",
    "* select_column, select_columns, remove_columns, swao_columns, replace_columns(map)\n",
    "* add_column (zip and map)\n",
    "* iteration (zipWithIndex, filter, collect)\n",
    "* logical_filter (zip, filter)\n",
    "* drop_missing_values (filter)\n",
    "* add_row_number (zipWithIndex)\n",
    "* sort (sort)\n",
    "* unique (distinct)\n",
    "* sample (sample)\n",
    "* random_split (map, zip, and filter)\n",
    "* append (union)"
   ]
  },
  {
   "cell_type": "code",
   "execution_count": null,
   "metadata": {
    "collapsed": false
   },
   "outputs": [],
   "source": [
    ""
   ]
  }
 ],
 "metadata": {
  "kernelspec": {
   "display_name": "Python 2",
   "language": "python",
   "name": "python2"
  },
  "language_info": {
   "codemirror_mode": {
    "name": "ipython",
    "version": 2.0
   },
   "file_extension": ".py",
   "mimetype": "text/x-python",
   "name": "python",
   "nbconvert_exporter": "python",
   "pygments_lexer": "ipython2",
   "version": "2.7.3"
  }
 },
 "nbformat": 4,
 "nbformat_minor": 0
}